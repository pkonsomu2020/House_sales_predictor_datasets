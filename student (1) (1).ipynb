{
 "cells": [
  {
   "cell_type": "markdown",
   "metadata": {},
   "source": [
    "## Final Project Submission\n",
    "\n",
    "Please fill out:\n",
    "* Student name: \n",
    "* Student pace: self paced / part time / full time\n",
    "* Scheduled project review date/time: \n",
    "* Instructor name: \n",
    "* Blog post URL:\n"
   ]
  },
  {
   "cell_type": "code",
<<<<<<< HEAD
   "execution_count": 39,
=======
   "execution_count": 113,
>>>>>>> 921794035d8285d487c2b28115cf21be58122511
   "metadata": {},
   "outputs": [],
   "source": [
    "# import the necessary libraries\n",
    "import pandas as pd\n",
    "import numpy as np\n",
    "import matplotlib.pyplot as plt\n",
    "import seaborn as sns\n",
    "import statsmodels.formula.api as sfm\n",
    "import statsmodels.api as sm\n",
    "%matplotlib inline\n",
    "\n",
    "plt.style.use('seaborn')\n",
    "import warnings\n",
    "warnings.filterwarnings('ignore')\n"
   ]
  },
  {
<<<<<<< HEAD
   "cell_type": "code",
   "execution_count": 40,
=======
   "cell_type": "markdown",
>>>>>>> 921794035d8285d487c2b28115cf21be58122511
   "metadata": {},
   "source": [
    "## Obtaining data"
   ]
  },
  {
   "cell_type": "code",
   "execution_count": 114,
   "metadata": {
    "scrolled": true
   },
   "outputs": [
    {
     "data": {
      "text/html": [
       "<div>\n",
       "<style scoped>\n",
       "    .dataframe tbody tr th:only-of-type {\n",
       "        vertical-align: middle;\n",
       "    }\n",
       "\n",
       "    .dataframe tbody tr th {\n",
       "        vertical-align: top;\n",
       "    }\n",
       "\n",
       "    .dataframe thead th {\n",
       "        text-align: right;\n",
       "    }\n",
       "</style>\n",
       "<table border=\"1\" class=\"dataframe\">\n",
       "  <thead>\n",
       "    <tr style=\"text-align: right;\">\n",
       "      <th></th>\n",
       "      <th>id</th>\n",
       "      <th>date</th>\n",
       "      <th>price</th>\n",
       "      <th>bedrooms</th>\n",
       "      <th>bathrooms</th>\n",
       "      <th>sqft_living</th>\n",
       "      <th>sqft_lot</th>\n",
       "      <th>floors</th>\n",
       "      <th>waterfront</th>\n",
       "      <th>view</th>\n",
       "      <th>...</th>\n",
       "      <th>grade</th>\n",
       "      <th>sqft_above</th>\n",
       "      <th>sqft_basement</th>\n",
       "      <th>yr_built</th>\n",
       "      <th>yr_renovated</th>\n",
       "      <th>zipcode</th>\n",
       "      <th>lat</th>\n",
       "      <th>long</th>\n",
       "      <th>sqft_living15</th>\n",
       "      <th>sqft_lot15</th>\n",
       "    </tr>\n",
       "  </thead>\n",
       "  <tbody>\n",
       "    <tr>\n",
       "      <th>0</th>\n",
       "      <td>7129300520</td>\n",
       "      <td>10/13/2014</td>\n",
       "      <td>221900.0</td>\n",
       "      <td>3</td>\n",
       "      <td>1.00</td>\n",
       "      <td>1180</td>\n",
       "      <td>5650</td>\n",
       "      <td>1.0</td>\n",
       "      <td>NaN</td>\n",
       "      <td>NONE</td>\n",
       "      <td>...</td>\n",
       "      <td>7 Average</td>\n",
       "      <td>1180</td>\n",
       "      <td>0.0</td>\n",
       "      <td>1955</td>\n",
       "      <td>0.0</td>\n",
       "      <td>98178</td>\n",
       "      <td>47.5112</td>\n",
       "      <td>-122.257</td>\n",
       "      <td>1340</td>\n",
       "      <td>5650</td>\n",
       "    </tr>\n",
       "    <tr>\n",
       "      <th>1</th>\n",
       "      <td>6414100192</td>\n",
       "      <td>12/9/2014</td>\n",
       "      <td>538000.0</td>\n",
       "      <td>3</td>\n",
       "      <td>2.25</td>\n",
       "      <td>2570</td>\n",
       "      <td>7242</td>\n",
       "      <td>2.0</td>\n",
       "      <td>NO</td>\n",
       "      <td>NONE</td>\n",
       "      <td>...</td>\n",
       "      <td>7 Average</td>\n",
       "      <td>2170</td>\n",
       "      <td>400.0</td>\n",
       "      <td>1951</td>\n",
       "      <td>1991.0</td>\n",
       "      <td>98125</td>\n",
       "      <td>47.7210</td>\n",
       "      <td>-122.319</td>\n",
       "      <td>1690</td>\n",
       "      <td>7639</td>\n",
       "    </tr>\n",
       "    <tr>\n",
       "      <th>2</th>\n",
       "      <td>5631500400</td>\n",
       "      <td>2/25/2015</td>\n",
       "      <td>180000.0</td>\n",
       "      <td>2</td>\n",
       "      <td>1.00</td>\n",
       "      <td>770</td>\n",
       "      <td>10000</td>\n",
       "      <td>1.0</td>\n",
       "      <td>NO</td>\n",
       "      <td>NONE</td>\n",
       "      <td>...</td>\n",
       "      <td>6 Low Average</td>\n",
       "      <td>770</td>\n",
       "      <td>0.0</td>\n",
       "      <td>1933</td>\n",
       "      <td>NaN</td>\n",
       "      <td>98028</td>\n",
       "      <td>47.7379</td>\n",
       "      <td>-122.233</td>\n",
       "      <td>2720</td>\n",
       "      <td>8062</td>\n",
       "    </tr>\n",
       "    <tr>\n",
       "      <th>3</th>\n",
       "      <td>2487200875</td>\n",
       "      <td>12/9/2014</td>\n",
       "      <td>604000.0</td>\n",
       "      <td>4</td>\n",
       "      <td>3.00</td>\n",
       "      <td>1960</td>\n",
       "      <td>5000</td>\n",
       "      <td>1.0</td>\n",
       "      <td>NO</td>\n",
       "      <td>NONE</td>\n",
       "      <td>...</td>\n",
       "      <td>7 Average</td>\n",
       "      <td>1050</td>\n",
       "      <td>910.0</td>\n",
       "      <td>1965</td>\n",
       "      <td>0.0</td>\n",
       "      <td>98136</td>\n",
       "      <td>47.5208</td>\n",
       "      <td>-122.393</td>\n",
       "      <td>1360</td>\n",
       "      <td>5000</td>\n",
       "    </tr>\n",
       "    <tr>\n",
       "      <th>4</th>\n",
       "      <td>1954400510</td>\n",
       "      <td>2/18/2015</td>\n",
       "      <td>510000.0</td>\n",
       "      <td>3</td>\n",
       "      <td>2.00</td>\n",
       "      <td>1680</td>\n",
       "      <td>8080</td>\n",
       "      <td>1.0</td>\n",
       "      <td>NO</td>\n",
       "      <td>NONE</td>\n",
       "      <td>...</td>\n",
       "      <td>8 Good</td>\n",
       "      <td>1680</td>\n",
       "      <td>0.0</td>\n",
       "      <td>1987</td>\n",
       "      <td>0.0</td>\n",
       "      <td>98074</td>\n",
       "      <td>47.6168</td>\n",
       "      <td>-122.045</td>\n",
       "      <td>1800</td>\n",
       "      <td>7503</td>\n",
       "    </tr>\n",
       "  </tbody>\n",
       "</table>\n",
       "<p>5 rows × 21 columns</p>\n",
       "</div>"
      ],
      "text/plain": [
       "           id        date     price  bedrooms  bathrooms  sqft_living  \\\n",
       "0  7129300520  10/13/2014  221900.0         3       1.00         1180   \n",
       "1  6414100192   12/9/2014  538000.0         3       2.25         2570   \n",
       "2  5631500400   2/25/2015  180000.0         2       1.00          770   \n",
       "3  2487200875   12/9/2014  604000.0         4       3.00         1960   \n",
       "4  1954400510   2/18/2015  510000.0         3       2.00         1680   \n",
       "\n",
       "   sqft_lot  floors waterfront  view  ...          grade sqft_above  \\\n",
       "0      5650     1.0        NaN  NONE  ...      7 Average       1180   \n",
       "1      7242     2.0         NO  NONE  ...      7 Average       2170   \n",
       "2     10000     1.0         NO  NONE  ...  6 Low Average        770   \n",
       "3      5000     1.0         NO  NONE  ...      7 Average       1050   \n",
       "4      8080     1.0         NO  NONE  ...         8 Good       1680   \n",
       "\n",
       "   sqft_basement yr_built  yr_renovated  zipcode      lat     long  \\\n",
       "0            0.0     1955           0.0    98178  47.5112 -122.257   \n",
       "1          400.0     1951        1991.0    98125  47.7210 -122.319   \n",
       "2            0.0     1933           NaN    98028  47.7379 -122.233   \n",
       "3          910.0     1965           0.0    98136  47.5208 -122.393   \n",
       "4            0.0     1987           0.0    98074  47.6168 -122.045   \n",
       "\n",
       "   sqft_living15  sqft_lot15  \n",
       "0           1340        5650  \n",
       "1           1690        7639  \n",
       "2           2720        8062  \n",
       "3           1360        5000  \n",
       "4           1800        7503  \n",
       "\n",
       "[5 rows x 21 columns]"
      ]
     },
<<<<<<< HEAD
     "execution_count": 40,
=======
     "execution_count": 114,
>>>>>>> 921794035d8285d487c2b28115cf21be58122511
     "metadata": {},
     "output_type": "execute_result"
    }
   ],
   "source": [
    "# reading in the data and previewing the dataframe\n",
    "df = pd.read_csv('data/kc_house_data.csv')\n",
    "df.head()"
   ]
  },
  {
   "cell_type": "markdown",
   "metadata": {},
   "source": [
    "## Data Preparation\n",
    "\n",
    "In this section, we shall be preparing the data for further processing and modelling"
   ]
  },
  {
   "cell_type": "markdown",
   "metadata": {},
   "source": [
    "### Investigate data types"
   ]
  },
  {
   "cell_type": "code",
<<<<<<< HEAD
   "execution_count": 41,
=======
   "execution_count": 115,
>>>>>>> 921794035d8285d487c2b28115cf21be58122511
   "metadata": {},
   "outputs": [
    {
     "name": "stdout",
     "output_type": "stream",
     "text": [
      "<class 'pandas.core.frame.DataFrame'>\n",
      "RangeIndex: 21597 entries, 0 to 21596\n",
      "Data columns (total 21 columns):\n",
      " #   Column         Non-Null Count  Dtype  \n",
      "---  ------         --------------  -----  \n",
      " 0   id             21597 non-null  int64  \n",
      " 1   date           21597 non-null  object \n",
      " 2   price          21597 non-null  float64\n",
      " 3   bedrooms       21597 non-null  int64  \n",
      " 4   bathrooms      21597 non-null  float64\n",
      " 5   sqft_living    21597 non-null  int64  \n",
      " 6   sqft_lot       21597 non-null  int64  \n",
      " 7   floors         21597 non-null  float64\n",
      " 8   waterfront     19221 non-null  object \n",
      " 9   view           21534 non-null  object \n",
      " 10  condition      21597 non-null  object \n",
      " 11  grade          21597 non-null  object \n",
      " 12  sqft_above     21597 non-null  int64  \n",
      " 13  sqft_basement  21597 non-null  object \n",
      " 14  yr_built       21597 non-null  int64  \n",
      " 15  yr_renovated   17755 non-null  float64\n",
      " 16  zipcode        21597 non-null  int64  \n",
      " 17  lat            21597 non-null  float64\n",
      " 18  long           21597 non-null  float64\n",
      " 19  sqft_living15  21597 non-null  int64  \n",
      " 20  sqft_lot15     21597 non-null  int64  \n",
      "dtypes: float64(6), int64(9), object(6)\n",
      "memory usage: 3.5+ MB\n"
     ]
    }
   ],
   "source": [
    "# summary of the data\n",
    "df.info()"
   ]
  },
  {
<<<<<<< HEAD
   "cell_type": "code",
   "execution_count": 42,
   "metadata": {},
   "outputs": [
    {
     "data": {
      "text/html": [
       "<div>\n",
       "<style scoped>\n",
       "    .dataframe tbody tr th:only-of-type {\n",
       "        vertical-align: middle;\n",
       "    }\n",
       "\n",
       "    .dataframe tbody tr th {\n",
       "        vertical-align: top;\n",
       "    }\n",
       "\n",
       "    .dataframe thead th {\n",
       "        text-align: right;\n",
       "    }\n",
       "</style>\n",
       "<table border=\"1\" class=\"dataframe\">\n",
       "  <thead>\n",
       "    <tr style=\"text-align: right;\">\n",
       "      <th></th>\n",
       "      <th>id</th>\n",
       "      <th>price</th>\n",
       "      <th>bedrooms</th>\n",
       "      <th>bathrooms</th>\n",
       "      <th>sqft_living</th>\n",
       "      <th>sqft_lot</th>\n",
       "      <th>floors</th>\n",
       "      <th>sqft_above</th>\n",
       "      <th>yr_built</th>\n",
       "      <th>yr_renovated</th>\n",
       "      <th>zipcode</th>\n",
       "      <th>lat</th>\n",
       "      <th>long</th>\n",
       "      <th>sqft_living15</th>\n",
       "      <th>sqft_lot15</th>\n",
       "    </tr>\n",
       "  </thead>\n",
       "  <tbody>\n",
       "    <tr>\n",
       "      <th>count</th>\n",
       "      <td>2.159700e+04</td>\n",
       "      <td>2.159700e+04</td>\n",
       "      <td>21597.000000</td>\n",
       "      <td>21597.000000</td>\n",
       "      <td>21597.000000</td>\n",
       "      <td>2.159700e+04</td>\n",
       "      <td>21597.000000</td>\n",
       "      <td>21597.000000</td>\n",
       "      <td>21597.000000</td>\n",
       "      <td>17755.000000</td>\n",
       "      <td>21597.000000</td>\n",
       "      <td>21597.000000</td>\n",
       "      <td>21597.000000</td>\n",
       "      <td>21597.000000</td>\n",
       "      <td>21597.000000</td>\n",
       "    </tr>\n",
       "    <tr>\n",
       "      <th>mean</th>\n",
       "      <td>4.580474e+09</td>\n",
       "      <td>5.402966e+05</td>\n",
       "      <td>3.373200</td>\n",
       "      <td>2.115826</td>\n",
       "      <td>2080.321850</td>\n",
       "      <td>1.509941e+04</td>\n",
       "      <td>1.494096</td>\n",
       "      <td>1788.596842</td>\n",
       "      <td>1970.999676</td>\n",
       "      <td>83.636778</td>\n",
       "      <td>98077.951845</td>\n",
       "      <td>47.560093</td>\n",
       "      <td>-122.213982</td>\n",
       "      <td>1986.620318</td>\n",
       "      <td>12758.283512</td>\n",
       "    </tr>\n",
       "    <tr>\n",
       "      <th>std</th>\n",
       "      <td>2.876736e+09</td>\n",
       "      <td>3.673681e+05</td>\n",
       "      <td>0.926299</td>\n",
       "      <td>0.768984</td>\n",
       "      <td>918.106125</td>\n",
       "      <td>4.141264e+04</td>\n",
       "      <td>0.539683</td>\n",
       "      <td>827.759761</td>\n",
       "      <td>29.375234</td>\n",
       "      <td>399.946414</td>\n",
       "      <td>53.513072</td>\n",
       "      <td>0.138552</td>\n",
       "      <td>0.140724</td>\n",
       "      <td>685.230472</td>\n",
       "      <td>27274.441950</td>\n",
       "    </tr>\n",
       "    <tr>\n",
       "      <th>min</th>\n",
       "      <td>1.000102e+06</td>\n",
       "      <td>7.800000e+04</td>\n",
       "      <td>1.000000</td>\n",
       "      <td>0.500000</td>\n",
       "      <td>370.000000</td>\n",
       "      <td>5.200000e+02</td>\n",
       "      <td>1.000000</td>\n",
       "      <td>370.000000</td>\n",
       "      <td>1900.000000</td>\n",
       "      <td>0.000000</td>\n",
       "      <td>98001.000000</td>\n",
       "      <td>47.155900</td>\n",
       "      <td>-122.519000</td>\n",
       "      <td>399.000000</td>\n",
       "      <td>651.000000</td>\n",
       "    </tr>\n",
       "    <tr>\n",
       "      <th>25%</th>\n",
       "      <td>2.123049e+09</td>\n",
       "      <td>3.220000e+05</td>\n",
       "      <td>3.000000</td>\n",
       "      <td>1.750000</td>\n",
       "      <td>1430.000000</td>\n",
       "      <td>5.040000e+03</td>\n",
       "      <td>1.000000</td>\n",
       "      <td>1190.000000</td>\n",
       "      <td>1951.000000</td>\n",
       "      <td>0.000000</td>\n",
       "      <td>98033.000000</td>\n",
       "      <td>47.471100</td>\n",
       "      <td>-122.328000</td>\n",
       "      <td>1490.000000</td>\n",
       "      <td>5100.000000</td>\n",
       "    </tr>\n",
       "    <tr>\n",
       "      <th>50%</th>\n",
       "      <td>3.904930e+09</td>\n",
       "      <td>4.500000e+05</td>\n",
       "      <td>3.000000</td>\n",
       "      <td>2.250000</td>\n",
       "      <td>1910.000000</td>\n",
       "      <td>7.618000e+03</td>\n",
       "      <td>1.500000</td>\n",
       "      <td>1560.000000</td>\n",
       "      <td>1975.000000</td>\n",
       "      <td>0.000000</td>\n",
       "      <td>98065.000000</td>\n",
       "      <td>47.571800</td>\n",
       "      <td>-122.231000</td>\n",
       "      <td>1840.000000</td>\n",
       "      <td>7620.000000</td>\n",
       "    </tr>\n",
       "    <tr>\n",
       "      <th>75%</th>\n",
       "      <td>7.308900e+09</td>\n",
       "      <td>6.450000e+05</td>\n",
       "      <td>4.000000</td>\n",
       "      <td>2.500000</td>\n",
       "      <td>2550.000000</td>\n",
       "      <td>1.068500e+04</td>\n",
       "      <td>2.000000</td>\n",
       "      <td>2210.000000</td>\n",
       "      <td>1997.000000</td>\n",
       "      <td>0.000000</td>\n",
       "      <td>98118.000000</td>\n",
       "      <td>47.678000</td>\n",
       "      <td>-122.125000</td>\n",
       "      <td>2360.000000</td>\n",
       "      <td>10083.000000</td>\n",
       "    </tr>\n",
       "    <tr>\n",
       "      <th>max</th>\n",
       "      <td>9.900000e+09</td>\n",
       "      <td>7.700000e+06</td>\n",
       "      <td>33.000000</td>\n",
       "      <td>8.000000</td>\n",
       "      <td>13540.000000</td>\n",
       "      <td>1.651359e+06</td>\n",
       "      <td>3.500000</td>\n",
       "      <td>9410.000000</td>\n",
       "      <td>2015.000000</td>\n",
       "      <td>2015.000000</td>\n",
       "      <td>98199.000000</td>\n",
       "      <td>47.777600</td>\n",
       "      <td>-121.315000</td>\n",
       "      <td>6210.000000</td>\n",
       "      <td>871200.000000</td>\n",
       "    </tr>\n",
       "  </tbody>\n",
       "</table>\n",
       "</div>"
      ],
      "text/plain": [
       "                 id         price      bedrooms     bathrooms   sqft_living  \\\n",
       "count  2.159700e+04  2.159700e+04  21597.000000  21597.000000  21597.000000   \n",
       "mean   4.580474e+09  5.402966e+05      3.373200      2.115826   2080.321850   \n",
       "std    2.876736e+09  3.673681e+05      0.926299      0.768984    918.106125   \n",
       "min    1.000102e+06  7.800000e+04      1.000000      0.500000    370.000000   \n",
       "25%    2.123049e+09  3.220000e+05      3.000000      1.750000   1430.000000   \n",
       "50%    3.904930e+09  4.500000e+05      3.000000      2.250000   1910.000000   \n",
       "75%    7.308900e+09  6.450000e+05      4.000000      2.500000   2550.000000   \n",
       "max    9.900000e+09  7.700000e+06     33.000000      8.000000  13540.000000   \n",
       "\n",
       "           sqft_lot        floors    sqft_above      yr_built  yr_renovated  \\\n",
       "count  2.159700e+04  21597.000000  21597.000000  21597.000000  17755.000000   \n",
       "mean   1.509941e+04      1.494096   1788.596842   1970.999676     83.636778   \n",
       "std    4.141264e+04      0.539683    827.759761     29.375234    399.946414   \n",
       "min    5.200000e+02      1.000000    370.000000   1900.000000      0.000000   \n",
       "25%    5.040000e+03      1.000000   1190.000000   1951.000000      0.000000   \n",
       "50%    7.618000e+03      1.500000   1560.000000   1975.000000      0.000000   \n",
       "75%    1.068500e+04      2.000000   2210.000000   1997.000000      0.000000   \n",
       "max    1.651359e+06      3.500000   9410.000000   2015.000000   2015.000000   \n",
       "\n",
       "            zipcode           lat          long  sqft_living15     sqft_lot15  \n",
       "count  21597.000000  21597.000000  21597.000000   21597.000000   21597.000000  \n",
       "mean   98077.951845     47.560093   -122.213982    1986.620318   12758.283512  \n",
       "std       53.513072      0.138552      0.140724     685.230472   27274.441950  \n",
       "min    98001.000000     47.155900   -122.519000     399.000000     651.000000  \n",
       "25%    98033.000000     47.471100   -122.328000    1490.000000    5100.000000  \n",
       "50%    98065.000000     47.571800   -122.231000    1840.000000    7620.000000  \n",
       "75%    98118.000000     47.678000   -122.125000    2360.000000   10083.000000  \n",
       "max    98199.000000     47.777600   -121.315000    6210.000000  871200.000000  "
      ]
     },
     "execution_count": 42,
     "metadata": {},
     "output_type": "execute_result"
    }
   ],
=======
   "cell_type": "markdown",
   "metadata": {},
>>>>>>> 921794035d8285d487c2b28115cf21be58122511
   "source": [
    "\n",
    "\n",
    "We conclude that\n",
    "- `date` column should be changed to `DateTime`.\n",
    "- `sqft_basement` column should be changed to `float`\n",
    "- `waterfront`, `view`, `condition`, and `grade` will remain unchanged for now because they contain text"
   ]
  },
  {
   "cell_type": "code",
<<<<<<< HEAD
   "execution_count": 43,
=======
   "execution_count": 116,
   "metadata": {},
   "outputs": [],
   "source": [
    "# function to change data type to datetime\n",
    "def change_to_datetime(df, col):\n",
    "    ''' Changes column to DateTime object'''\n",
    "    df[col] = pd.to_datetime(df[col])\n",
    "    return df.info()\n"
   ]
  },
  {
   "cell_type": "code",
   "execution_count": 117,
   "metadata": {},
   "outputs": [
    {
     "name": "stdout",
     "output_type": "stream",
     "text": [
      "<class 'pandas.core.frame.DataFrame'>\n",
      "RangeIndex: 21597 entries, 0 to 21596\n",
      "Data columns (total 21 columns):\n",
      " #   Column         Non-Null Count  Dtype         \n",
      "---  ------         --------------  -----         \n",
      " 0   id             21597 non-null  int64         \n",
      " 1   date           21597 non-null  datetime64[ns]\n",
      " 2   price          21597 non-null  float64       \n",
      " 3   bedrooms       21597 non-null  int64         \n",
      " 4   bathrooms      21597 non-null  float64       \n",
      " 5   sqft_living    21597 non-null  int64         \n",
      " 6   sqft_lot       21597 non-null  int64         \n",
      " 7   floors         21597 non-null  float64       \n",
      " 8   waterfront     19221 non-null  object        \n",
      " 9   view           21534 non-null  object        \n",
      " 10  condition      21597 non-null  object        \n",
      " 11  grade          21597 non-null  object        \n",
      " 12  sqft_above     21597 non-null  int64         \n",
      " 13  sqft_basement  21597 non-null  object        \n",
      " 14  yr_built       21597 non-null  int64         \n",
      " 15  yr_renovated   17755 non-null  float64       \n",
      " 16  zipcode        21597 non-null  int64         \n",
      " 17  lat            21597 non-null  float64       \n",
      " 18  long           21597 non-null  float64       \n",
      " 19  sqft_living15  21597 non-null  int64         \n",
      " 20  sqft_lot15     21597 non-null  int64         \n",
      "dtypes: datetime64[ns](1), float64(6), int64(9), object(5)\n",
      "memory usage: 3.5+ MB\n"
     ]
    }
   ],
   "source": [
    "# changing date column type to DateTime\n",
    "change_to_datetime(df, 'date')"
   ]
  },
  {
   "cell_type": "code",
   "execution_count": 118,
>>>>>>> 921794035d8285d487c2b28115cf21be58122511
   "metadata": {},
   "outputs": [
    {
     "data": {
      "text/plain": [
       "Index(['id', 'date', 'price', 'bedrooms', 'bathrooms', 'sqft_living',\n",
       "       'sqft_lot', 'floors', 'waterfront', 'view', 'condition', 'grade',\n",
       "       'sqft_above', 'sqft_basement', 'yr_built', 'yr_renovated', 'zipcode',\n",
       "       'lat', 'long', 'sqft_living15', 'sqft_lot15'],\n",
       "      dtype='object')"
      ]
     },
<<<<<<< HEAD
     "execution_count": 43,
=======
     "execution_count": 118,
>>>>>>> 921794035d8285d487c2b28115cf21be58122511
     "metadata": {},
     "output_type": "execute_result"
    }
   ],
   "source": [
    "# checking column names\n",
    "df.columns"
   ]
  },
  {
   "cell_type": "code",
<<<<<<< HEAD
   "execution_count": null,
   "metadata": {},
   "outputs": [],
   "source": []
  },
  {
   "cell_type": "code",
   "execution_count": 44,
=======
   "execution_count": 119,
>>>>>>> 921794035d8285d487c2b28115cf21be58122511
   "metadata": {},
   "outputs": [],
   "source": [
    "# function to check null values\n",
    "def check_null(df):\n",
    "    return df.isna().sum()"
   ]
  },
  {
   "cell_type": "code",
<<<<<<< HEAD
   "execution_count": 45,
=======
   "execution_count": 120,
>>>>>>> 921794035d8285d487c2b28115cf21be58122511
   "metadata": {},
   "outputs": [
    {
     "data": {
      "text/plain": [
       "id                  0\n",
       "date                0\n",
       "price               0\n",
       "bedrooms            0\n",
       "bathrooms           0\n",
       "sqft_living         0\n",
       "sqft_lot            0\n",
       "floors              0\n",
       "waterfront       2376\n",
       "view               63\n",
       "condition           0\n",
       "grade               0\n",
       "sqft_above          0\n",
       "sqft_basement       0\n",
       "yr_built            0\n",
       "yr_renovated     3842\n",
       "zipcode             0\n",
       "lat                 0\n",
       "long                0\n",
       "sqft_living15       0\n",
       "sqft_lot15          0\n",
       "dtype: int64"
      ]
     },
<<<<<<< HEAD
     "execution_count": 45,
=======
     "execution_count": 120,
>>>>>>> 921794035d8285d487c2b28115cf21be58122511
     "metadata": {},
     "output_type": "execute_result"
    }
   ],
   "source": [
    "# checking for null values in the data\n",
    "check_null(df)"
   ]
  },
  {
   "cell_type": "markdown",
   "metadata": {},
   "source": [
    "There are missing values in three columns.<br>\n",
    "Depending on the ratio of missing values, we will decide on what approach to take in dealing with them"
   ]
  },
  {
   "cell_type": "code",
<<<<<<< HEAD
   "execution_count": 46,
=======
   "execution_count": 121,
>>>>>>> 921794035d8285d487c2b28115cf21be58122511
   "metadata": {},
   "outputs": [],
   "source": [
    "# function to calculate percentage of null values\n",
    "def miss_percent(df,col):\n",
    "    miss = ((df[col].isna().sum()) / len(df[col])) * 100\n",
    "    return print(f'There is {miss} percent of values missing in {col}.')"
   ]
  },
  {
   "cell_type": "code",
<<<<<<< HEAD
   "execution_count": 47,
=======
   "execution_count": 122,
>>>>>>> 921794035d8285d487c2b28115cf21be58122511
   "metadata": {},
   "outputs": [
    {
     "name": "stdout",
     "output_type": "stream",
     "text": [
      "There is 11.00152798999861 percent of values missing in waterfront.\n",
      "There is 0.29170718155299347 percent of values missing in view.\n",
      "There is 17.78950780200954 percent of values missing in yr_renovated.\n"
     ]
    }
   ],
   "source": [
    "# checking percentage of missing values in waterfront\n",
    "miss_percent(df,'waterfront')\n",
    "miss_percent(df, 'view')\n",
    "miss_percent(df, 'yr_renovated')"
   ]
  },
  {
   "cell_type": "markdown",
   "metadata": {},
   "source": [
    "#### Dealing with `yr_renovated`"
   ]
  },
  {
   "cell_type": "code",
<<<<<<< HEAD
   "execution_count": 48,
=======
   "execution_count": 123,
>>>>>>> 921794035d8285d487c2b28115cf21be58122511
   "metadata": {},
   "outputs": [
    {
     "data": {
      "text/plain": [
       "0.0       17011\n",
       "2014.0       73\n",
       "2003.0       31\n",
       "2013.0       31\n",
       "2007.0       30\n",
       "          ...  \n",
       "1946.0        1\n",
       "1959.0        1\n",
       "1971.0        1\n",
       "1951.0        1\n",
       "1954.0        1\n",
       "Name: yr_renovated, Length: 70, dtype: int64"
      ]
     },
<<<<<<< HEAD
     "execution_count": 48,
=======
     "execution_count": 123,
>>>>>>> 921794035d8285d487c2b28115cf21be58122511
     "metadata": {},
     "output_type": "execute_result"
    }
   ],
   "source": [
    "# investigating yr_renovated\n",
    "df['yr_renovated'].value_counts()"
   ]
  },
  {
   "cell_type": "markdown",
   "metadata": {},
   "source": [
    "We notice that `0` is the most common in this column thus we replace the null with `0`."
   ]
  },
  {
   "cell_type": "code",
<<<<<<< HEAD
   "execution_count": 49,
=======
   "execution_count": 124,
>>>>>>> 921794035d8285d487c2b28115cf21be58122511
   "metadata": {},
   "outputs": [],
   "source": [
    "# function to replace null with a specificied value\n",
    "def replace_nan(df,col, replace_value):\n",
    "    return df[col].fillna(replace_value, inplace=True)"
   ]
  },
  {
   "cell_type": "code",
<<<<<<< HEAD
   "execution_count": 50,
=======
   "execution_count": 125,
>>>>>>> 921794035d8285d487c2b28115cf21be58122511
   "metadata": {},
   "outputs": [],
   "source": [
    "# replacing the null \n",
    "replace_nan(df,'yr_renovated',0)"
   ]
  },
  {
   "cell_type": "code",
<<<<<<< HEAD
   "execution_count": 51,
   "metadata": {},
   "outputs": [
    {
     "data": {
      "text/plain": [
       "False"
      ]
     },
     "execution_count": 51,
     "metadata": {},
     "output_type": "execute_result"
    }
   ],
   "source": [
    "df.duplicated().any()"
   ]
  },
  {
   "cell_type": "code",
   "execution_count": 52,
   "metadata": {},
   "outputs": [],
   "source": [
    "#replacing the null values with zero\n",
    "replace_nan(df,'waterfront', 0)"
   ]
  },
  {
   "cell_type": "code",
   "execution_count": 53,
   "metadata": {},
   "outputs": [],
   "source": [
    "#replacing the null values with zero\n",
    "replace_nan(df,'view', 0)"
   ]
  },
  {
   "cell_type": "code",
   "execution_count": 54,
   "metadata": {},
   "outputs": [],
   "source": [
    "df['yr_renovated'].fillna(df['yr_built'], inplace=True)"
   ]
  },
  {
   "cell_type": "code",
   "execution_count": 55,
   "metadata": {},
   "outputs": [
    {
     "data": {
      "text/plain": [
       "id               0\n",
       "date             0\n",
       "price            0\n",
       "bedrooms         0\n",
       "bathrooms        0\n",
       "sqft_living      0\n",
       "sqft_lot         0\n",
       "floors           0\n",
       "waterfront       0\n",
       "view             0\n",
       "condition        0\n",
       "grade            0\n",
       "sqft_above       0\n",
       "sqft_basement    0\n",
       "yr_built         0\n",
       "yr_renovated     0\n",
       "zipcode          0\n",
       "lat              0\n",
       "long             0\n",
       "sqft_living15    0\n",
       "sqft_lot15       0\n",
       "dtype: int64"
      ]
     },
     "execution_count": 55,
     "metadata": {},
     "output_type": "execute_result"
    }
   ],
   "source": [
    "check_null(df)"
   ]
  },
  {
   "cell_type": "markdown",
   "metadata": {},
   "source": [
    "Date has dtype as object therefore we split month and date date to get discrete values"
   ]
  },
  {
   "cell_type": "code",
   "execution_count": 56,
   "metadata": {},
   "outputs": [],
   "source": [
    "# function to change data type to datetime\n",
    "def change_to_datetime(df, col):\n",
    "    ''' Changes column to DateTime object'''\n",
    "    df[col] = pd.to_datetime(df[col])\n",
    "    return df.info()"
   ]
  },
  {
   "cell_type": "code",
   "execution_count": 57,
=======
   "execution_count": 126,
>>>>>>> 921794035d8285d487c2b28115cf21be58122511
   "metadata": {},
   "outputs": [
    {
     "name": "stdout",
     "output_type": "stream",
     "text": [
      "There is 0.0 percent of values missing in yr_renovated.\n"
     ]
    }
   ],
   "source": [
    "# confirming null values are removed\n",
    "miss_percent(df, 'yr_renovated')"
   ]
  },
  {
   "cell_type": "markdown",
   "metadata": {},
   "source": [
    "#### Dealing with `waterfront`"
   ]
  },
  {
   "cell_type": "code",
<<<<<<< HEAD
   "execution_count": 58,
=======
   "execution_count": 127,
>>>>>>> 921794035d8285d487c2b28115cf21be58122511
   "metadata": {},
   "outputs": [
    {
     "name": "stdout",
     "output_type": "stream",
     "text": [
      "Unique values:[nan 'NO' 'YES']\n",
      "Count:NO     19075\n",
      "YES      146\n",
      "Name: waterfront, dtype: int64\n"
     ]
    }
   ],
   "source": [
    "# investigating the column\n",
    "print(f'Unique values:{df.waterfront.unique()}')\n",
    "print(f'Count:{df.waterfront.value_counts()}')"
   ]
  },
  {
   "cell_type": "markdown",
   "metadata": {},
   "source": [
    "`NO` occurs the highest number of times hence we change the `null` to `NO`"
   ]
  },
  {
   "cell_type": "code",
   "execution_count": 128,
   "metadata": {},
   "outputs": [],
   "source": [
    "#replacing the null values with zero\n",
    "replace_nan(df,'waterfront', 'NO')"
   ]
  },
  {
   "cell_type": "code",
   "execution_count": 129,
   "metadata": {},
   "outputs": [],
   "source": [
    "# function to replace a value with another\n",
    "def substitute(df,col,original_value, sub_value):\n",
    "    return df[col].replace(original_value, sub_value, inplace=True)"
   ]
  },
  {
   "cell_type": "code",
   "execution_count": 130,
   "metadata": {},
   "outputs": [],
   "source": [
    "# changing YES to  1\n",
    "substitute(df,'waterfront','YES',1)\n",
    "\n",
    "# changing NO to  0\n",
    "substitute(df, 'waterfront', 'NO', 0)"
   ]
  },
  {
   "cell_type": "code",
   "execution_count": 131,
   "metadata": {},
   "outputs": [
    {
     "name": "stdout",
     "output_type": "stream",
     "text": [
      "There is 0.0 percent of values missing in waterfront.\n"
     ]
    }
   ],
   "source": [
    "# confirming null values are out\n",
    "miss_percent(df, 'waterfront')"
   ]
  },
  {
   "cell_type": "markdown",
   "metadata": {},
   "source": [
    "#### Dealing with `view`"
   ]
  },
  {
   "cell_type": "code",
   "execution_count": 132,
   "metadata": {},
   "outputs": [
    {
     "name": "stdout",
     "output_type": "stream",
     "text": [
      "Unique values:['NONE' nan 'GOOD' 'EXCELLENT' 'AVERAGE' 'FAIR']\n",
      "Count:NONE         19422\n",
      "AVERAGE        957\n",
      "GOOD           508\n",
      "FAIR           330\n",
      "EXCELLENT      317\n",
      "Name: view, dtype: int64\n"
     ]
    }
   ],
   "source": [
    "# investigating the column\n",
    "print(f'Unique values:{df.view.unique()}')\n",
    "print(f'Count:{df.view.value_counts()}')"
   ]
  },
  {
   "cell_type": "markdown",
   "metadata": {},
   "source": [
    "In `view`, we have five types of rating.<br>\n",
    "`NONE` has the most entries and we decide to replace `null` with it."
   ]
  },
  {
   "cell_type": "code",
   "execution_count": 133,
   "metadata": {},
   "outputs": [],
   "source": [
    "#replacing the null values with NONE\n",
    "replace_nan(df,'view', 'NONE')"
   ]
  },
  {
   "cell_type": "code",
   "execution_count": 134,
   "metadata": {},
   "outputs": [],
   "source": [
    "# changing the ratings to numbers\n",
    "substitute(df,'view',['NONE','FAIR','AVERAGE','GOOD','EXCELLENT'],[0,1,2,3,4])\n"
   ]
  },
  {
   "cell_type": "code",
   "execution_count": 135,
   "metadata": {},
   "outputs": [
    {
     "data": {
      "text/plain": [
       "0    19485\n",
       "2      957\n",
       "3      508\n",
       "1      330\n",
       "4      317\n",
       "Name: view, dtype: int64"
      ]
     },
     "execution_count": 135,
     "metadata": {},
     "output_type": "execute_result"
    }
   ],
   "source": [
    "# checking count\n",
    "df['view'].value_counts()"
   ]
  },
  {
   "cell_type": "markdown",
   "metadata": {},
   "source": [
    "#### Dealing with `sqft_basement`"
   ]
  },
  {
   "cell_type": "code",
   "execution_count": 136,
   "metadata": {},
   "outputs": [
    {
     "name": "stdout",
     "output_type": "stream",
     "text": [
      "Count:0.0       12826\n",
      "?           454\n",
      "600.0       217\n",
      "500.0       209\n",
      "700.0       208\n",
      "          ...  \n",
      "1990.0        1\n",
      "516.0         1\n",
      "4820.0        1\n",
      "2500.0        1\n",
      "1525.0        1\n",
      "Name: sqft_basement, Length: 304, dtype: int64\n"
     ]
    }
   ],
   "source": [
    "# investigating the column\n",
    "print(f'Count:{df.sqft_basement.value_counts()}')"
   ]
  },
  {
   "cell_type": "markdown",
   "metadata": {},
   "source": [
    "The column has `?` as an entry. `0.0` is the most occuring and we change `?` to it."
   ]
  },
  {
   "cell_type": "code",
   "execution_count": 137,
   "metadata": {},
   "outputs": [],
   "source": [
    "# change ? to 0.0\n",
    "substitute(df, 'sqft_basement', '?', 0.0)"
   ]
  },
  {
   "cell_type": "code",
   "execution_count": 138,
   "metadata": {},
   "outputs": [],
   "source": [
    "df.sqft_basement = df.sqft_basement.astype(float)"
   ]
  },
  {
   "cell_type": "code",
   "execution_count": 139,
   "metadata": {},
   "outputs": [
    {
     "name": "stdout",
     "output_type": "stream",
     "text": [
      "Count:0.0       13280\n",
      "600.0       217\n",
      "500.0       209\n",
      "700.0       208\n",
      "800.0       201\n",
      "          ...  \n",
      "915.0         1\n",
      "295.0         1\n",
      "1281.0        1\n",
      "2130.0        1\n",
      "906.0         1\n",
      "Name: sqft_basement, Length: 303, dtype: int64\n"
     ]
    }
   ],
   "source": [
    "print(f'Count:{df.sqft_basement.value_counts()}')"
   ]
  },
  {
   "cell_type": "markdown",
   "metadata": {},
   "source": [
    "#### Dealing with `condition`"
   ]
  },
  {
   "cell_type": "code",
   "execution_count": 140,
   "metadata": {},
   "outputs": [
    {
     "name": "stdout",
     "output_type": "stream",
     "text": [
      "Unique values:['Average' 'Very Good' 'Good' 'Poor' 'Fair']\n",
      "Count:Average      14020\n",
      "Good          5677\n",
      "Very Good     1701\n",
      "Fair           170\n",
      "Poor            29\n",
      "Name: condition, dtype: int64\n"
     ]
    }
   ],
   "source": [
    "# investigating the column\n",
    "print(f'Unique values:{df.condition.unique()}')\n",
    "print(f'Count:{df.condition.value_counts()}')"
   ]
  },
  {
   "cell_type": "markdown",
   "metadata": {},
   "source": [
    "There are 5 ratings and we decide to ssign them numbers on a scale of 1 to 5 with 5 being `very good`"
   ]
  },
  {
   "cell_type": "code",
   "execution_count": 141,
   "metadata": {},
   "outputs": [],
   "source": [
    "# assigning the ratings numbers\n",
    "substitute(df,'condition',['Poor','Fair','Average','Good','Very Good'],[1,2,3,4,5])"
   ]
  },
  {
   "cell_type": "code",
   "execution_count": 142,
   "metadata": {},
   "outputs": [
    {
     "name": "stdout",
     "output_type": "stream",
     "text": [
      "Unique values:[3 5 4 1 2]\n",
      "Count:3    14020\n",
      "4     5677\n",
      "5     1701\n",
      "2      170\n",
      "1       29\n",
      "Name: condition, dtype: int64\n"
     ]
    }
   ],
   "source": [
    "print(f'Unique values:{df.condition.unique()}')\n",
    "print(f'Count:{df.condition.value_counts()}')"
   ]
  },
  {
   "cell_type": "markdown",
   "metadata": {},
   "source": [
    "#### Dealing with `grade`"
   ]
  },
  {
   "cell_type": "code",
   "execution_count": 143,
   "metadata": {},
   "outputs": [
    {
     "name": "stdout",
     "output_type": "stream",
     "text": [
      "Unique values:['7 Average' '6 Low Average' '8 Good' '11 Excellent' '9 Better' '5 Fair'\n",
      " '10 Very Good' '12 Luxury' '4 Low' '3 Poor' '13 Mansion']\n",
      "Count:7 Average        8974\n",
      "8 Good           6065\n",
      "9 Better         2615\n",
      "6 Low Average    2038\n",
      "10 Very Good     1134\n",
      "11 Excellent      399\n",
      "5 Fair            242\n",
      "12 Luxury          89\n",
      "4 Low              27\n",
      "13 Mansion         13\n",
      "3 Poor              1\n",
      "Name: grade, dtype: int64\n"
     ]
    }
   ],
   "source": [
    "# investigating the column\n",
    "print(f'Unique values:{df.grade.unique()}')\n",
    "print(f'Count:{df.grade.value_counts()}')"
   ]
  },
  {
   "cell_type": "markdown",
   "metadata": {},
   "source": [
    "We will assign the ratings as numbers with the numbers they have beside them. "
   ]
  },
  {
   "cell_type": "code",
   "execution_count": 144,
   "metadata": {},
   "outputs": [],
   "source": [
    "# assigning numbers to ratings\n",
    "substitute(df,'grade',['7 Average','8 Good','9 Better','6 Low Average','10 Very Good','11 Excellent',\n",
    "                      '5 Fair','12 Luxury','4 Low','13 Mansion','3 Poor'], [7,8,9,6,10,11,5,12,4,13,3])"
   ]
  },
  {
   "cell_type": "code",
   "execution_count": 145,
   "metadata": {},
   "outputs": [
    {
     "name": "stdout",
     "output_type": "stream",
     "text": [
      "Count:7     8974\n",
      "8     6065\n",
      "9     2615\n",
      "6     2038\n",
      "10    1134\n",
      "11     399\n",
      "5      242\n",
      "12      89\n",
      "4       27\n",
      "13      13\n",
      "3        1\n",
      "Name: grade, dtype: int64\n"
     ]
    }
   ],
   "source": [
    "print(f'Count:{df.grade.value_counts()}')"
   ]
  },
  {
   "cell_type": "markdown",
   "metadata": {},
   "source": [
    "#### Dealing with `bathrooms`"
   ]
  },
  {
   "cell_type": "code",
   "execution_count": 146,
   "metadata": {},
   "outputs": [
    {
     "name": "stdout",
     "output_type": "stream",
     "text": [
      "Count:2.50    5377\n",
      "1.00    3851\n",
      "1.75    3048\n",
      "2.25    2047\n",
      "2.00    1930\n",
      "1.50    1445\n",
      "2.75    1185\n",
      "3.00     753\n",
      "3.50     731\n",
      "3.25     589\n",
      "3.75     155\n",
      "4.00     136\n",
      "4.50     100\n",
      "4.25      79\n",
      "0.75      71\n",
      "4.75      23\n",
      "5.00      21\n",
      "5.25      13\n",
      "5.50      10\n",
      "1.25       9\n",
      "6.00       6\n",
      "5.75       4\n",
      "0.50       4\n",
      "8.00       2\n",
      "6.25       2\n",
      "6.75       2\n",
      "6.50       2\n",
      "7.50       1\n",
      "7.75       1\n",
      "Name: bathrooms, dtype: int64\n"
     ]
    }
   ],
   "source": [
    "# investigating the column\n",
    "#print(f'Unique values:{df.bathrooms.unique()}')\n",
    "print(f'Count:{df.bathrooms.value_counts()}')"
   ]
  },
  {
   "cell_type": "markdown",
   "metadata": {},
   "source": [
    "`bathrooms` have float values. We decide to round up to the next integer so as to have whole numbers.<br>\n",
    "in this case, rounding off might make the `0.5` to be `0` which we don't want."
   ]
  },
  {
   "cell_type": "code",
   "execution_count": 147,
   "metadata": {},
   "outputs": [],
   "source": [
    "# rounding up the decimals\n",
    "df['bathrooms'] = df['bathrooms'].apply(np.ceil).astype(int)\n"
   ]
  },
  {
   "cell_type": "code",
   "execution_count": 148,
   "metadata": {},
   "outputs": [
    {
     "data": {
      "text/plain": [
       "3    9362\n",
       "2    6432\n",
       "1    3926\n",
       "4    1611\n",
       "5     223\n",
       "6      33\n",
       "7       6\n",
       "8       4\n",
       "Name: bathrooms, dtype: int64"
      ]
     },
     "execution_count": 148,
     "metadata": {},
     "output_type": "execute_result"
    }
   ],
   "source": [
    "df.bathrooms.value_counts()"
   ]
  },
  {
   "cell_type": "code",
   "execution_count": 149,
   "metadata": {
    "scrolled": true
   },
   "outputs": [
    {
     "data": {
      "text/html": [
       "<div>\n",
       "<style scoped>\n",
       "    .dataframe tbody tr th:only-of-type {\n",
       "        vertical-align: middle;\n",
       "    }\n",
       "\n",
       "    .dataframe tbody tr th {\n",
       "        vertical-align: top;\n",
       "    }\n",
       "\n",
       "    .dataframe thead th {\n",
       "        text-align: right;\n",
       "    }\n",
       "</style>\n",
       "<table border=\"1\" class=\"dataframe\">\n",
       "  <thead>\n",
       "    <tr style=\"text-align: right;\">\n",
       "      <th></th>\n",
       "      <th>id</th>\n",
       "      <th>date</th>\n",
       "      <th>price</th>\n",
       "      <th>bedrooms</th>\n",
       "      <th>bathrooms</th>\n",
       "      <th>sqft_living</th>\n",
       "      <th>sqft_lot</th>\n",
       "      <th>floors</th>\n",
       "      <th>waterfront</th>\n",
       "      <th>view</th>\n",
       "      <th>...</th>\n",
       "      <th>grade</th>\n",
       "      <th>sqft_above</th>\n",
       "      <th>sqft_basement</th>\n",
       "      <th>yr_built</th>\n",
       "      <th>yr_renovated</th>\n",
       "      <th>zipcode</th>\n",
       "      <th>lat</th>\n",
       "      <th>long</th>\n",
       "      <th>sqft_living15</th>\n",
       "      <th>sqft_lot15</th>\n",
       "    </tr>\n",
       "  </thead>\n",
       "  <tbody>\n",
       "    <tr>\n",
       "      <th>0</th>\n",
       "      <td>7129300520</td>\n",
       "      <td>2014-10-13</td>\n",
       "      <td>221900.0</td>\n",
       "      <td>3</td>\n",
       "      <td>1</td>\n",
       "      <td>1180</td>\n",
       "      <td>5650</td>\n",
       "      <td>1.0</td>\n",
       "      <td>0</td>\n",
       "      <td>0</td>\n",
       "      <td>...</td>\n",
       "      <td>7</td>\n",
       "      <td>1180</td>\n",
       "      <td>0.0</td>\n",
       "      <td>1955</td>\n",
       "      <td>0.0</td>\n",
       "      <td>98178</td>\n",
       "      <td>47.5112</td>\n",
       "      <td>-122.257</td>\n",
       "      <td>1340</td>\n",
       "      <td>5650</td>\n",
       "    </tr>\n",
       "    <tr>\n",
       "      <th>1</th>\n",
       "      <td>6414100192</td>\n",
       "      <td>2014-12-09</td>\n",
       "      <td>538000.0</td>\n",
       "      <td>3</td>\n",
       "      <td>3</td>\n",
       "      <td>2570</td>\n",
       "      <td>7242</td>\n",
       "      <td>2.0</td>\n",
       "      <td>0</td>\n",
       "      <td>0</td>\n",
       "      <td>...</td>\n",
       "      <td>7</td>\n",
       "      <td>2170</td>\n",
       "      <td>400.0</td>\n",
       "      <td>1951</td>\n",
       "      <td>1991.0</td>\n",
       "      <td>98125</td>\n",
       "      <td>47.7210</td>\n",
       "      <td>-122.319</td>\n",
       "      <td>1690</td>\n",
       "      <td>7639</td>\n",
       "    </tr>\n",
       "    <tr>\n",
       "      <th>2</th>\n",
       "      <td>5631500400</td>\n",
       "      <td>2015-02-25</td>\n",
       "      <td>180000.0</td>\n",
       "      <td>2</td>\n",
       "      <td>1</td>\n",
       "      <td>770</td>\n",
       "      <td>10000</td>\n",
       "      <td>1.0</td>\n",
       "      <td>0</td>\n",
       "      <td>0</td>\n",
       "      <td>...</td>\n",
       "      <td>6</td>\n",
       "      <td>770</td>\n",
       "      <td>0.0</td>\n",
       "      <td>1933</td>\n",
       "      <td>0.0</td>\n",
       "      <td>98028</td>\n",
       "      <td>47.7379</td>\n",
       "      <td>-122.233</td>\n",
       "      <td>2720</td>\n",
       "      <td>8062</td>\n",
       "    </tr>\n",
       "    <tr>\n",
       "      <th>3</th>\n",
       "      <td>2487200875</td>\n",
       "      <td>2014-12-09</td>\n",
       "      <td>604000.0</td>\n",
       "      <td>4</td>\n",
       "      <td>3</td>\n",
       "      <td>1960</td>\n",
       "      <td>5000</td>\n",
       "      <td>1.0</td>\n",
       "      <td>0</td>\n",
       "      <td>0</td>\n",
       "      <td>...</td>\n",
       "      <td>7</td>\n",
       "      <td>1050</td>\n",
       "      <td>910.0</td>\n",
       "      <td>1965</td>\n",
       "      <td>0.0</td>\n",
       "      <td>98136</td>\n",
       "      <td>47.5208</td>\n",
       "      <td>-122.393</td>\n",
       "      <td>1360</td>\n",
       "      <td>5000</td>\n",
       "    </tr>\n",
       "    <tr>\n",
       "      <th>4</th>\n",
       "      <td>1954400510</td>\n",
       "      <td>2015-02-18</td>\n",
       "      <td>510000.0</td>\n",
       "      <td>3</td>\n",
       "      <td>2</td>\n",
       "      <td>1680</td>\n",
       "      <td>8080</td>\n",
       "      <td>1.0</td>\n",
       "      <td>0</td>\n",
       "      <td>0</td>\n",
       "      <td>...</td>\n",
       "      <td>8</td>\n",
       "      <td>1680</td>\n",
       "      <td>0.0</td>\n",
       "      <td>1987</td>\n",
       "      <td>0.0</td>\n",
       "      <td>98074</td>\n",
       "      <td>47.6168</td>\n",
       "      <td>-122.045</td>\n",
       "      <td>1800</td>\n",
       "      <td>7503</td>\n",
       "    </tr>\n",
       "  </tbody>\n",
       "</table>\n",
       "<p>5 rows × 21 columns</p>\n",
       "</div>"
      ],
      "text/plain": [
       "           id       date     price  bedrooms  bathrooms  sqft_living  \\\n",
       "0  7129300520 2014-10-13  221900.0         3          1         1180   \n",
       "1  6414100192 2014-12-09  538000.0         3          3         2570   \n",
       "2  5631500400 2015-02-25  180000.0         2          1          770   \n",
       "3  2487200875 2014-12-09  604000.0         4          3         1960   \n",
       "4  1954400510 2015-02-18  510000.0         3          2         1680   \n",
       "\n",
       "   sqft_lot  floors  waterfront  view  ...  grade  sqft_above  sqft_basement  \\\n",
       "0      5650     1.0           0     0  ...      7        1180            0.0   \n",
       "1      7242     2.0           0     0  ...      7        2170          400.0   \n",
       "2     10000     1.0           0     0  ...      6         770            0.0   \n",
       "3      5000     1.0           0     0  ...      7        1050          910.0   \n",
       "4      8080     1.0           0     0  ...      8        1680            0.0   \n",
       "\n",
       "   yr_built  yr_renovated  zipcode      lat     long  sqft_living15  \\\n",
       "0      1955           0.0    98178  47.5112 -122.257           1340   \n",
       "1      1951        1991.0    98125  47.7210 -122.319           1690   \n",
       "2      1933           0.0    98028  47.7379 -122.233           2720   \n",
       "3      1965           0.0    98136  47.5208 -122.393           1360   \n",
       "4      1987           0.0    98074  47.6168 -122.045           1800   \n",
       "\n",
       "   sqft_lot15  \n",
       "0        5650  \n",
       "1        7639  \n",
       "2        8062  \n",
       "3        5000  \n",
       "4        7503  \n",
       "\n",
       "[5 rows x 21 columns]"
      ]
     },
<<<<<<< HEAD
     "execution_count": 58,
=======
     "execution_count": 149,
>>>>>>> 921794035d8285d487c2b28115cf21be58122511
     "metadata": {},
     "output_type": "execute_result"
    }
   ],
   "source": [
    "df.head()"
   ]
  },
  {
   "cell_type": "code",
<<<<<<< HEAD
   "execution_count": 59,
=======
   "execution_count": 150,
>>>>>>> 921794035d8285d487c2b28115cf21be58122511
   "metadata": {},
   "outputs": [],
   "source": [
    "df['yr_renovated'].fillna(df['yr_built'], inplace=True)"
   ]
  },
  {
   "cell_type": "markdown",
   "metadata": {},
   "source": [
    "Date has dtype as object therefore we split month and date date to get discrete values"
   ]
  },
  {
   "cell_type": "markdown",
   "metadata": {},
   "source": [
    "### Check duplicates"
   ]
  },
  {
   "cell_type": "markdown",
   "metadata": {},
   "source": [
    "Checking whether we have any duplicates in our dataset."
   ]
  },
  {
   "cell_type": "code",
<<<<<<< HEAD
   "execution_count": 60,
=======
   "execution_count": 151,
   "metadata": {},
   "outputs": [],
   "source": [
    "#Function to identify duplicates\n",
    "duplicates = []\n",
    "def identify_duplicates(data):\n",
    "    for i in df.duplicated():\n",
    "        duplicates.append(i)\n",
    "    duplicates_set = set(duplicates)\n",
    "    if(len(duplicates_set) == 1):\n",
    "        print('The data has no duplicates')\n",
    "    else:\n",
    "        duplicates_rows = 0\n",
    "        for j in duplicates:\n",
    "            if (j == True):\n",
    "                duplicates_rows += 1\n",
    "                #percentage of data represented by duplicates\n",
    "                duplicates_percentage = np.round(((duplicates_rows/len(data)) * 100), 2)\n",
    "                print(f'The data has {duplicates_rows} duplicated rows')\n",
    "                print(f'Duplicated rows constitute of {duplicates_percentage}% of the dataframe')\n"
   ]
  },
  {
   "cell_type": "code",
   "execution_count": 152,
   "metadata": {},
   "outputs": [
    {
     "name": "stdout",
     "output_type": "stream",
     "text": [
      "The data has no duplicates\n"
     ]
    }
   ],
   "source": [
    "identify_duplicates(df)"
   ]
  },
  {
   "cell_type": "markdown",
   "metadata": {},
   "source": [
    "### Checking for outliers"
   ]
  },
  {
   "cell_type": "markdown",
   "metadata": {},
   "source": [
    "We view the distributions using histograms to get insight of the spread of the various features."
   ]
  },
  {
   "cell_type": "code",
   "execution_count": 153,
>>>>>>> 921794035d8285d487c2b28115cf21be58122511
   "metadata": {},
   "outputs": [
    {
     "data": {
      "image/png": "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\n",
      "text/plain": [
       "<Figure size 1500x1200 with 20 Axes>"
      ]
     },
<<<<<<< HEAD
     "execution_count": 60,
=======
>>>>>>> 921794035d8285d487c2b28115cf21be58122511
     "metadata": {},
     "output_type": "display_data"
    }
   ],
   "source": [
    "df.hist(figsize = (15,12))\n",
    "plt.show()"
   ]
  },
  {
<<<<<<< HEAD
   "cell_type": "code",
   "execution_count": 61,
   "metadata": {},
   "outputs": [
    {
     "data": {
      "text/plain": [
       "0        1\n",
       "1        3\n",
       "2        1\n",
       "3        3\n",
       "4        2\n",
       "        ..\n",
       "21592    3\n",
       "21593    3\n",
       "21594    1\n",
       "21595    3\n",
       "21596    1\n",
       "Name: bathrooms, Length: 21597, dtype: int32"
      ]
     },
     "execution_count": 61,
     "metadata": {},
     "output_type": "execute_result"
    }
   ],
   "source": [
    "df['bathrooms'] = df['bathrooms'].apply(np.ceil).astype(int)\n",
    "df['bathrooms']\n"
   ]
  },
  {
   "cell_type": "code",
   "execution_count": 62,
   "metadata": {},
   "outputs": [
    {
     "data": {
      "text/plain": [
       "NO     19075\n",
       "0       2376\n",
       "YES      146\n",
       "Name: waterfront, dtype: int64"
      ]
     },
     "execution_count": 62,
     "metadata": {},
     "output_type": "execute_result"
    }
   ],
   "source": [
    "df['waterfront'].value_counts()"
   ]
  },
  {
   "cell_type": "code",
   "execution_count": 63,
   "metadata": {},
   "outputs": [],
   "source": [
    "# function to replace a value with another\n",
    "def substitute(df,col,original_value, sub_value):\n",
    "    return df[col].replace(original_value, sub_value, inplace=True)"
   ]
  },
  {
   "cell_type": "code",
   "execution_count": 64,
   "metadata": {},
   "outputs": [],
   "source": [
    "# changing YES to  1\n",
    "substitute(df,'waterfront','YES',1)\n",
=======
   "cell_type": "markdown",
   "metadata": {},
   "source": [
>>>>>>> 921794035d8285d487c2b28115cf21be58122511
    "\n",
    "- `grade`, `condition` and `floors` appear to be on a reasonable scale with no apparent outliers\n",
    "- `waterfront`, `was_renovated_post90`, `viewed` and `has basement` are binary 1/0 features.\n",
    "- We will consider potential outliers in `bedrooms`, `bathrooms` and the `sqft`-type features."
   ]
  },
  {
   "cell_type": "code",
<<<<<<< HEAD
   "execution_count": 65,
=======
   "execution_count": 154,
   "metadata": {},
   "outputs": [
    {
     "data": {
      "text/plain": [
       "3     9824\n",
       "4     6882\n",
       "2     2760\n",
       "5     1601\n",
       "6      272\n",
       "1      196\n",
       "7       38\n",
       "8       13\n",
       "9        6\n",
       "10       3\n",
       "11       1\n",
       "33       1\n",
       "Name: bedrooms, dtype: int64"
      ]
     },
     "execution_count": 154,
     "metadata": {},
     "output_type": "execute_result"
    }
   ],
   "source": [
    "# Investigate bedrooms\n",
    "df['bedrooms'].value_counts()"
   ]
  },
  {
   "cell_type": "markdown",
   "metadata": {},
   "source": [
    "There is a 33 bedroom house, we check on it."
   ]
  },
  {
   "cell_type": "code",
   "execution_count": 155,
   "metadata": {
    "scrolled": false
   },
   "outputs": [
    {
     "data": {
      "text/html": [
       "<div>\n",
       "<style scoped>\n",
       "    .dataframe tbody tr th:only-of-type {\n",
       "        vertical-align: middle;\n",
       "    }\n",
       "\n",
       "    .dataframe tbody tr th {\n",
       "        vertical-align: top;\n",
       "    }\n",
       "\n",
       "    .dataframe thead th {\n",
       "        text-align: right;\n",
       "    }\n",
       "</style>\n",
       "<table border=\"1\" class=\"dataframe\">\n",
       "  <thead>\n",
       "    <tr style=\"text-align: right;\">\n",
       "      <th></th>\n",
       "      <th>id</th>\n",
       "      <th>date</th>\n",
       "      <th>price</th>\n",
       "      <th>bedrooms</th>\n",
       "      <th>bathrooms</th>\n",
       "      <th>sqft_living</th>\n",
       "      <th>sqft_lot</th>\n",
       "      <th>floors</th>\n",
       "      <th>waterfront</th>\n",
       "      <th>view</th>\n",
       "      <th>...</th>\n",
       "      <th>grade</th>\n",
       "      <th>sqft_above</th>\n",
       "      <th>sqft_basement</th>\n",
       "      <th>yr_built</th>\n",
       "      <th>yr_renovated</th>\n",
       "      <th>zipcode</th>\n",
       "      <th>lat</th>\n",
       "      <th>long</th>\n",
       "      <th>sqft_living15</th>\n",
       "      <th>sqft_lot15</th>\n",
       "    </tr>\n",
       "  </thead>\n",
       "  <tbody>\n",
       "    <tr>\n",
       "      <th>15856</th>\n",
       "      <td>2402100895</td>\n",
       "      <td>2014-06-25</td>\n",
       "      <td>640000.0</td>\n",
       "      <td>33</td>\n",
       "      <td>2</td>\n",
       "      <td>1620</td>\n",
       "      <td>6000</td>\n",
       "      <td>1.0</td>\n",
       "      <td>0</td>\n",
       "      <td>0</td>\n",
       "      <td>...</td>\n",
       "      <td>7</td>\n",
       "      <td>1040</td>\n",
       "      <td>580.0</td>\n",
       "      <td>1947</td>\n",
       "      <td>0.0</td>\n",
       "      <td>98103</td>\n",
       "      <td>47.6878</td>\n",
       "      <td>-122.331</td>\n",
       "      <td>1330</td>\n",
       "      <td>4700</td>\n",
       "    </tr>\n",
       "  </tbody>\n",
       "</table>\n",
       "<p>1 rows × 21 columns</p>\n",
       "</div>"
      ],
      "text/plain": [
       "               id       date     price  bedrooms  bathrooms  sqft_living  \\\n",
       "15856  2402100895 2014-06-25  640000.0        33          2         1620   \n",
       "\n",
       "       sqft_lot  floors  waterfront  view  ...  grade  sqft_above  \\\n",
       "15856      6000     1.0           0     0  ...      7        1040   \n",
       "\n",
       "       sqft_basement  yr_built  yr_renovated  zipcode      lat     long  \\\n",
       "15856          580.0      1947           0.0    98103  47.6878 -122.331   \n",
       "\n",
       "       sqft_living15  sqft_lot15  \n",
       "15856           1330        4700  \n",
       "\n",
       "[1 rows x 21 columns]"
      ]
     },
     "execution_count": 155,
     "metadata": {},
     "output_type": "execute_result"
    }
   ],
   "source": [
    "df[df['bedrooms'] == 33]"
   ]
  },
  {
   "cell_type": "markdown",
   "metadata": {},
   "source": [
    "The house has `2` bathrooms and a price of `640,000`. This seem to indicate `33` might have been an error. We replace it with`3`"
   ]
  },
  {
   "cell_type": "code",
   "execution_count": 156,
   "metadata": {},
   "outputs": [],
   "source": [
    "# Fix error for bedrooms\n",
    "df.loc[15856, 'bedrooms'] = 3"
   ]
  },
  {
   "cell_type": "markdown",
   "metadata": {},
   "source": [
    "While this could be an approach to removing outliers, we decide to use the interquartile ranges to generalise it."
   ]
  },
  {
   "cell_type": "code",
   "execution_count": 157,
   "metadata": {},
   "outputs": [],
   "source": [
    "def remove_outliers(df):\n",
    "    # define the columns to remove outliers from\n",
    "    cols = ['price', 'bedrooms', 'bathrooms', 'sqft_living', 'sqft_lot', 'floors',\n",
    "            'waterfront', 'view', 'condition', 'grade', 'sqft_above', 'sqft_basement',\n",
    "            'yr_built', 'yr_renovated', 'zipcode', 'lat', 'long', 'sqft_living15',\n",
    "            'sqft_lot15']\n",
    "    \n",
    "    # remove outliers from the specified columns\n",
    "    for col in cols:\n",
    "        q1 = df[col].quantile(0.25)\n",
    "        q3 = df[col].quantile(0.75)\n",
    "        iqr = q3 - q1\n",
    "        df = df[(df[col] >= q1 - (1.5 * iqr * (len(df[col])/(len(df[col]) + 1)))) & (df[col] <= q3 + (1.5 * iqr * (len(df[col])/(len(df[col]) + 1))))]\n",
    "    \n",
    "    # return the modified DataFrame\n",
    "    return df"
   ]
  },
  {
   "cell_type": "code",
   "execution_count": 158,
   "metadata": {},
   "outputs": [],
   "source": [
    "df = remove_outliers(df)"
   ]
  },
  {
   "cell_type": "code",
   "execution_count": 159,
>>>>>>> 921794035d8285d487c2b28115cf21be58122511
   "metadata": {},
   "outputs": [
    {
     "name": "stdout",
     "output_type": "stream",
     "text": [
      "<class 'pandas.core.frame.DataFrame'>\n",
<<<<<<< HEAD
      "RangeIndex: 21597 entries, 0 to 21596\n",
      "Data columns (total 19 columns):\n",
      " #   Column         Non-Null Count  Dtype  \n",
      "---  ------         --------------  -----  \n",
      " 0   price          21597 non-null  float64\n",
      " 1   bedrooms       21597 non-null  int64  \n",
      " 2   bathrooms      21597 non-null  int32  \n",
      " 3   sqft_living    21597 non-null  int64  \n",
      " 4   sqft_lot       21597 non-null  int64  \n",
      " 5   floors         21597 non-null  float64\n",
      " 6   waterfront     21597 non-null  int64  \n",
      " 7   view           21597 non-null  object \n",
      " 8   condition      21597 non-null  object \n",
      " 9   grade          21597 non-null  object \n",
      " 10  sqft_above     21597 non-null  int64  \n",
      " 11  sqft_basement  21597 non-null  object \n",
      " 12  yr_built       21597 non-null  int64  \n",
      " 13  yr_renovated   21597 non-null  float64\n",
      " 14  zipcode        21597 non-null  int64  \n",
      " 15  lat            21597 non-null  float64\n",
      " 16  long           21597 non-null  float64\n",
      " 17  sqft_living15  21597 non-null  int64  \n",
      " 18  sqft_lot15     21597 non-null  int64  \n",
      "dtypes: float64(5), int32(1), int64(9), object(4)\n",
      "memory usage: 3.0+ MB\n"
=======
      "Int64Index: 13810 entries, 0 to 21596\n",
      "Data columns (total 21 columns):\n",
      " #   Column         Non-Null Count  Dtype         \n",
      "---  ------         --------------  -----         \n",
      " 0   id             13810 non-null  int64         \n",
      " 1   date           13810 non-null  datetime64[ns]\n",
      " 2   price          13810 non-null  float64       \n",
      " 3   bedrooms       13810 non-null  int64         \n",
      " 4   bathrooms      13810 non-null  int64         \n",
      " 5   sqft_living    13810 non-null  int64         \n",
      " 6   sqft_lot       13810 non-null  int64         \n",
      " 7   floors         13810 non-null  float64       \n",
      " 8   waterfront     13810 non-null  int64         \n",
      " 9   view           13810 non-null  int64         \n",
      " 10  condition      13810 non-null  int64         \n",
      " 11  grade          13810 non-null  int64         \n",
      " 12  sqft_above     13810 non-null  int64         \n",
      " 13  sqft_basement  13810 non-null  float64       \n",
      " 14  yr_built       13810 non-null  int64         \n",
      " 15  yr_renovated   13810 non-null  float64       \n",
      " 16  zipcode        13810 non-null  int64         \n",
      " 17  lat            13810 non-null  float64       \n",
      " 18  long           13810 non-null  float64       \n",
      " 19  sqft_living15  13810 non-null  int64         \n",
      " 20  sqft_lot15     13810 non-null  int64         \n",
      "dtypes: datetime64[ns](1), float64(6), int64(14)\n",
      "memory usage: 2.3 MB\n"
>>>>>>> 921794035d8285d487c2b28115cf21be58122511
     ]
    }
   ],
   "source": [
    "df.info()"
   ]
  },
  {
   "cell_type": "markdown",
   "metadata": {},
   "source": [
    "## EDA"
   ]
  },
  {
   "cell_type": "markdown",
   "metadata": {},
   "source": [
    "### Price"
   ]
  },
  {
   "cell_type": "code",
<<<<<<< HEAD
   "execution_count": 66,
=======
   "execution_count": 162,
>>>>>>> 921794035d8285d487c2b28115cf21be58122511
   "metadata": {},
   "outputs": [
    {
     "data": {
      "image/png": "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\n",
      "text/plain": [
       "<Figure size 800x550 with 1 Axes>"
      ]
     },
<<<<<<< HEAD
     "execution_count": 66,
=======
>>>>>>> 921794035d8285d487c2b28115cf21be58122511
     "metadata": {},
     "output_type": "display_data"
    }
   ],
   "source": [
<<<<<<< HEAD
    "df['view'].value_counts()"
   ]
  },
  {
   "cell_type": "code",
   "execution_count": 67,
   "metadata": {},
   "outputs": [],
   "source": [
    "substitute(df,'view',['NONE','FAIR','AVERAGE','GOOD','EXCELLENT'],[0,1,2,3,4])\n"
   ]
  },
  {
   "cell_type": "code",
   "execution_count": 68,
   "metadata": {},
   "outputs": [
    {
     "data": {
      "text/plain": [
       "Average      14020\n",
       "Good          5677\n",
       "Very Good     1701\n",
       "Fair           170\n",
       "Poor            29\n",
       "Name: condition, dtype: int64"
      ]
     },
     "execution_count": 68,
     "metadata": {},
     "output_type": "execute_result"
    }
   ],
   "source": [
    "df['condition'].value_counts()"
   ]
  },
  {
   "cell_type": "code",
   "execution_count": 69,
   "metadata": {},
   "outputs": [],
   "source": [
    "substitute(df,'condition',['Poor','Fair','Average','Good','Very Good'],[1,2,3,4,5])"
   ]
  },
  {
   "cell_type": "code",
   "execution_count": 70,
   "metadata": {},
   "outputs": [
    {
     "data": {
      "text/plain": [
       "0            7 Average\n",
       "1            7 Average\n",
       "2        6 Low Average\n",
       "3            7 Average\n",
       "4               8 Good\n",
       "             ...      \n",
       "21592           8 Good\n",
       "21593           8 Good\n",
       "21594        7 Average\n",
       "21595           8 Good\n",
       "21596        7 Average\n",
       "Name: grade, Length: 21597, dtype: object"
      ]
     },
     "execution_count": 70,
     "metadata": {},
     "output_type": "execute_result"
    }
   ],
   "source": [
    "df['grade']"
   ]
  },
  {
   "cell_type": "code",
   "execution_count": 71,
   "metadata": {},
   "outputs": [],
   "source": [
    "substitute(df,'grade',['7 Average','8 Good','9 Better','6 Low Average','10 Very Good','11 Excellent',\n",
    "                      '5 Fair','12 Luxury','4 Low','13 Mansion','3 Poor'], [7,8,9,6,10,11,5,12,4,13,3])"
   ]
  },
  {
   "cell_type": "code",
   "execution_count": 72,
   "metadata": {},
   "outputs": [],
   "source": [
    "substitute(df, 'sqft_basement', '?', 0.0)\n",
    "df['sqft_basement'] = df['sqft_basement'].astype(float)"
=======
    "# View price distribution\n",
    "df['price'].hist()\n",
    "plt.xlabel('Price in USD')\n",
    "plt.title('Distribution of Price')\n",
    "plt.show()"
>>>>>>> 921794035d8285d487c2b28115cf21be58122511
   ]
  },
  {
   "cell_type": "code",
   "execution_count": 73,
   "metadata": {},
   "outputs": [],
<<<<<<< HEAD
   "source": [
    "#q1 - (1.5 * iqr * (len(df[col])/(len(df[col]) + 1)))"
   ]
  },
  {
   "cell_type": "code",
   "execution_count": 74,
   "metadata": {},
   "outputs": [
    {
     "name": "stdout",
     "output_type": "stream",
     "text": [
      "<class 'pandas.core.frame.DataFrame'>\n",
      "RangeIndex: 21597 entries, 0 to 21596\n",
      "Data columns (total 19 columns):\n",
      " #   Column         Non-Null Count  Dtype  \n",
      "---  ------         --------------  -----  \n",
      " 0   price          21597 non-null  float64\n",
      " 1   bedrooms       21597 non-null  int64  \n",
      " 2   bathrooms      21597 non-null  int32  \n",
      " 3   sqft_living    21597 non-null  int64  \n",
      " 4   sqft_lot       21597 non-null  int64  \n",
      " 5   floors         21597 non-null  float64\n",
      " 6   waterfront     21597 non-null  int64  \n",
      " 7   view           21597 non-null  int64  \n",
      " 8   condition      21597 non-null  int64  \n",
      " 9   grade          21597 non-null  int64  \n",
      " 10  sqft_above     21597 non-null  int64  \n",
      " 11  sqft_basement  21597 non-null  float64\n",
      " 12  yr_built       21597 non-null  int64  \n",
      " 13  yr_renovated   21597 non-null  float64\n",
      " 14  zipcode        21597 non-null  int64  \n",
      " 15  lat            21597 non-null  float64\n",
      " 16  long           21597 non-null  float64\n",
      " 17  sqft_living15  21597 non-null  int64  \n",
      " 18  sqft_lot15     21597 non-null  int64  \n",
      "dtypes: float64(6), int32(1), int64(12)\n",
      "memory usage: 3.0 MB\n"
     ]
    }
   ],
   "source": [
    "df.info()"
   ]
  },
  {
   "cell_type": "code",
   "execution_count": 75,
=======
   "source": []
  },
  {
   "cell_type": "code",
   "execution_count": null,
>>>>>>> 921794035d8285d487c2b28115cf21be58122511
   "metadata": {},
   "outputs": [],
   "source": [
    "X = df[['sqft_living']]\n",
    "y = df['price']"
   ]
  },
  {
   "cell_type": "code",
<<<<<<< HEAD
   "execution_count": 76,
   "metadata": {},
   "outputs": [
    {
     "name": "stdout",
     "output_type": "stream",
     "text": [
      "                            OLS Regression Results                            \n",
      "==============================================================================\n",
      "Dep. Variable:                  price   R-squared:                       0.493\n",
      "Model:                            OLS   Adj. R-squared:                  0.493\n",
      "Method:                 Least Squares   F-statistic:                 2.097e+04\n",
      "Date:                Wed, 19 Apr 2023   Prob (F-statistic):               0.00\n",
      "Time:                        12:15:29   Log-Likelihood:            -3.0006e+05\n",
      "No. Observations:               21597   AIC:                         6.001e+05\n",
      "Df Residuals:                   21595   BIC:                         6.001e+05\n",
      "Df Model:                           1                                         \n",
      "Covariance Type:            nonrobust                                         \n",
      "===============================================================================\n",
      "                  coef    std err          t      P>|t|      [0.025      0.975]\n",
      "-------------------------------------------------------------------------------\n",
      "const       -4.399e+04   4410.023     -9.975      0.000   -5.26e+04   -3.53e+04\n",
      "sqft_living   280.8630      1.939    144.819      0.000     277.062     284.664\n",
      "==============================================================================\n",
      "Omnibus:                    14801.942   Durbin-Watson:                   1.982\n",
      "Prob(Omnibus):                  0.000   Jarque-Bera (JB):           542662.604\n",
      "Skew:                           2.820   Prob(JB):                         0.00\n",
      "Kurtosis:                      26.901   Cond. No.                     5.63e+03\n",
      "==============================================================================\n",
      "\n",
      "Notes:\n",
      "[1] Standard Errors assume that the covariance matrix of the errors is correctly specified.\n",
      "[2] The condition number is large, 5.63e+03. This might indicate that there are\n",
      "strong multicollinearity or other numerical problems.\n"
     ]
    }
   ],
=======
   "execution_count": null,
   "metadata": {},
   "outputs": [],
>>>>>>> 921794035d8285d487c2b28115cf21be58122511
   "source": [
    "\n",
    "baseline_model = sm.OLS(y, sm.add_constant(X))\n",
    "baseline_results = baseline_model.fit()\n",
    "print(baseline_results.summary())"
   ]
  },
  {
   "cell_type": "code",
<<<<<<< HEAD
   "execution_count": 77,
=======
   "execution_count": null,
>>>>>>> 921794035d8285d487c2b28115cf21be58122511
   "metadata": {},
   "outputs": [],
   "source": [
    "X_baseline = df.drop(['price'], axis=1)"
   ]
  },
  {
   "cell_type": "code",
<<<<<<< HEAD
   "execution_count": 78,
   "metadata": {},
   "outputs": [
    {
     "name": "stdout",
     "output_type": "stream",
     "text": [
      "                            OLS Regression Results                            \n",
      "==============================================================================\n",
      "Dep. Variable:                  price   R-squared:                       0.699\n",
      "Model:                            OLS   Adj. R-squared:                  0.698\n",
      "Method:                 Least Squares   F-statistic:                     2778.\n",
      "Date:                Wed, 19 Apr 2023   Prob (F-statistic):               0.00\n",
      "Time:                        12:15:30   Log-Likelihood:            -2.9444e+05\n",
      "No. Observations:               21597   AIC:                         5.889e+05\n",
      "Df Residuals:                   21578   BIC:                         5.891e+05\n",
      "Df Model:                          18                                         \n",
      "Covariance Type:            nonrobust                                         \n",
      "=================================================================================\n",
      "                    coef    std err          t      P>|t|      [0.025      0.975]\n",
      "---------------------------------------------------------------------------------\n",
      "const          5.984e+06   2.94e+06      2.037      0.042    2.25e+05    1.17e+07\n",
      "bedrooms      -3.365e+04   1899.750    -17.711      0.000   -3.74e+04   -2.99e+04\n",
      "bathrooms      1.924e+04   2700.865      7.124      0.000    1.39e+04    2.45e+04\n",
      "sqft_living     115.0041     18.107      6.351      0.000      79.514     150.495\n",
      "sqft_lot          0.1319      0.048      2.744      0.006       0.038       0.226\n",
      "floors         1.113e+04   3659.231      3.043      0.002    3960.944    1.83e+04\n",
      "waterfront     6.174e+05   1.82e+04     33.955      0.000    5.82e+05    6.53e+05\n",
      "view           5.371e+04   2127.187     25.247      0.000    4.95e+04    5.79e+04\n",
      "condition      2.756e+04   2353.663     11.708      0.000    2.29e+04    3.22e+04\n",
      "grade          9.759e+04   2169.436     44.983      0.000    9.33e+04    1.02e+05\n",
      "sqft_above       74.2010     18.119      4.095      0.000      38.687     109.715\n",
      "sqft_basement    46.6828     17.953      2.600      0.009      11.494      81.872\n",
      "yr_built      -2519.3533     72.715    -34.647      0.000   -2661.880   -2376.827\n",
      "yr_renovated     26.7635      3.980      6.725      0.000      18.963      34.564\n",
      "zipcode        -583.4080     33.095    -17.628      0.000    -648.277    -518.539\n",
      "lat            6.022e+05   1.08e+04     55.939      0.000    5.81e+05    6.23e+05\n",
      "long          -2.199e+05   1.32e+04    -16.672      0.000   -2.46e+05   -1.94e+05\n",
      "sqft_living15    20.2111      3.458      5.845      0.000      13.434      26.989\n",
      "sqft_lot15       -0.3988      0.074     -5.423      0.000      -0.543      -0.255\n",
      "==============================================================================\n",
      "Omnibus:                    18414.278   Durbin-Watson:                   1.989\n",
      "Prob(Omnibus):                  0.000   Jarque-Bera (JB):          1862311.779\n",
      "Skew:                           3.582   Prob(JB):                         0.00\n",
      "Kurtosis:                      47.924   Cond. No.                     2.15e+08\n",
      "==============================================================================\n",
      "\n",
      "Notes:\n",
      "[1] Standard Errors assume that the covariance matrix of the errors is correctly specified.\n",
      "[2] The condition number is large, 2.15e+08. This might indicate that there are\n",
      "strong multicollinearity or other numerical problems.\n"
     ]
    }
   ],
=======
   "execution_count": null,
   "metadata": {},
   "outputs": [],
>>>>>>> 921794035d8285d487c2b28115cf21be58122511
   "source": [
    "multiple_model = sm.OLS(y, sm.add_constant(X_baseline))\n",
    "multiple_model_results = multiple_model.fit()\n",
    "print(multiple_model_results.summary())"
   ]
  },
  {
   "cell_type": "markdown",
   "metadata": {},
   "source": [
    " **simple linear correlation for grade**"
   ]
  },
  {
   "cell_type": "code",
   "execution_count": 81,
   "metadata": {},
   "outputs": [
    {
     "data": {
      "image/png": "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\n",
      "text/plain": [
       "<Figure size 576x396 with 1 Axes>"
      ]
     },
     "metadata": {},
     "output_type": "display_data"
    }
   ],
   "source": [
    "# plot a scatter plot to check for corrinality.\n",
    "df.plot.scatter(x=\"grade\", y= \"price\");"
   ]
  },
  {
   "cell_type": "markdown",
   "metadata": {},
   "source": [
    "From the graphicah representation this shows that grade is a cartegorical variable.\n",
    "we check for correlation with price."
   ]
  },
  {
   "cell_type": "code",
   "execution_count": 85,
   "metadata": {},
   "outputs": [
    {
     "data": {
      "text/plain": [
       "0.6679507713876449"
      ]
     },
     "execution_count": 85,
     "metadata": {},
     "output_type": "execute_result"
    }
   ],
   "source": [
    "# Correlation value.\n",
    "df[\"price\"].corr(df[\"grade\"])"
   ]
  },
  {
   "cell_type": "markdown",
   "metadata": {},
   "source": [
    "The correlation coefficent shows that there is a positive relationship between the two variables."
   ]
  },
  {
   "cell_type": "code",
   "execution_count": 89,
   "metadata": {},
   "outputs": [
    {
     "name": "stdout",
     "output_type": "stream",
     "text": [
      "                            OLS Regression Results                            \n",
      "==============================================================================\n",
      "Dep. Variable:                  price   R-squared:                       0.446\n",
      "Model:                            OLS   Adj. R-squared:                  0.446\n",
      "Method:                 Least Squares   F-statistic:                 1.740e+04\n",
      "Date:                Wed, 19 Apr 2023   Prob (F-statistic):               0.00\n",
      "Time:                        12:49:25   Log-Likelihood:            -3.0101e+05\n",
      "No. Observations:               21597   AIC:                         6.020e+05\n",
      "Df Residuals:                   21595   BIC:                         6.020e+05\n",
      "Df Model:                           1                                         \n",
      "Covariance Type:            nonrobust                                         \n",
      "==============================================================================\n",
      "                 coef    std err          t      P>|t|      [0.025      0.975]\n",
      "------------------------------------------------------------------------------\n",
      "const      -1.061e+06   1.23e+04    -86.396      0.000   -1.09e+06   -1.04e+06\n",
      "grade       2.092e+05   1585.790    131.895      0.000    2.06e+05    2.12e+05\n",
      "==============================================================================\n",
      "Omnibus:                    19879.964   Durbin-Watson:                   1.968\n",
      "Prob(Omnibus):                  0.000   Jarque-Bera (JB):          2043898.709\n",
      "Skew:                           4.081   Prob(JB):                         0.00\n",
      "Kurtosis:                      49.954   Cond. No.                         52.0\n",
      "==============================================================================\n",
      "\n",
      "Notes:\n",
      "[1] Standard Errors assume that the covariance matrix of the errors is correctly specified.\n"
     ]
    }
   ],
   "source": [
    "y = df[\"price\"]\n",
    "#df['grade'] = df['grade'].astype(int)\n",
    "X = df[[\"grade\"]]\n",
    "model = sm.OLS(endog=y, exog=sm.add_constant(X))\n",
    "grade_results = model.fit()\n",
    "print(results.summary())"
   ]
  },
  {
   "cell_type": "markdown",
   "metadata": {},
   "source": [
    "* The model is statistically significant overall, with an F-statistic p-value well below 0.05\n",
    "* The model explains about 45% of the variance in price\n",
    "* The model coefficient grade is all statistically significant, with t-statistic p-values well below 0.05\n",
    "* For each increase of 1 grdae of the house, we see an associated increase in price of about 2 dollars.\n",
    "* If the grade of the house is 0, we would expect a decrease in price of about 1 dollar. unrealist."
   ]
  },
  {
   "cell_type": "code",
   "execution_count": 95,
   "metadata": {},
   "outputs": [
    {
     "data": {
      "image/png": "iVBORw0KGgoAAAANSUhEUgAAAecAAAFhCAYAAABK5GKRAAAAOXRFWHRTb2Z0d2FyZQBNYXRwbG90bGliIHZlcnNpb24zLjMuMSwgaHR0cHM6Ly9tYXRwbG90bGliLm9yZy/d3fzzAAAACXBIWXMAAAsTAAALEwEAmpwYAAA4FklEQVR4nO3deVxU5f4H8M8wwwyzAMMyqIkoqKjglpWl5kal7ZlpLsWt9F7vdWm7lntK95ZmXtusXLqtpPlrsfV2s+W2WN1b5pbsiKCigoCD7MNsvz+QkcPgCMLhnJn5vF+vXvWtB86Xk/qd55zn+T4Kp9PpBBEREclGgNQJEBERkRCLMxERkcywOBMREckMizMREZHMsDgTERHJDIszERGRzMiuOB84cADJyckex+zYsQNTp07F5MmT8dJLL3VSZkRERJ1DJXUCTb3yyiv45JNPoNVqzzvm6NGjeOedd5Camgq1Wo0XXngBVqsVgYGBnZgpERGReGQ1c46JicGGDRtccXZ2NpKTk5GcnIz7778flZWV+PnnnzFw4EAsXrwYd999N4YNG8bCTEREPkVWM+eJEyeisLDQFT/22GNYvXo1+vTpg/feew///Oc/ERQUhN9++w3vvPMOLBYLZsyYgffffx8hISESZk5ERNRxZFWcm8vLy8Pjjz8OALBarYiNjcXgwYMxfPhwGAwGGAwG9O7dGwUFBRg8eLDE2RIREXUMWRfn2NhYrF27Fpdccgn27NmDkpISxMbGYtu2bbBYLLDb7cjLy0NMTIzUqRIREXUYWRfnlJQULF68GHa7HQDw5JNPIjY2FnfccQdmzJgBp9OJefPmwWg0SpsoERFRB1LwVCoiIiJ5kdVqbSIiImJxJiIikh3R3jlbrVYsWbIEx48fR0BAAP7+97+jd+/e5x1fUlIpViqyFRamg9lcI3UaXo33sP14D9uP97D9/PEemkzB5/1vos2cv//+e9hsNmzfvh3z58/Hc889J9alvJZKpZQ6Ba/He9h+vIftx3vYfryHQqIV59jYWNjtdjgcDlRVVUGlkvXCcCIiItkQbbX2yZMnMW/ePNTU1MBsNmPTpk0YNmzYecfbbHZ+ciIiIoKIxXnNmjVQq9VYuHAhTp48iXvuuQeffvopNBpNi+P98Z2zyRTslz93R+I9bD/ew/bjPWw/f7yHnt45i/asOSQkxHUgRWhoKGw2m6uZCBEREZ2faMX53nvvxbJlyzBz5kxYrVY8/PDD0Ol0Yl2OiIjIZ4hWnPV6PZ5//nmxvj0REZHPYhMSIiIimWFx9mDv3t9w883XYcGCObj//j9j1qy7sWLFYlitVknzWrbs0XZ9/YIFc3DkSAE+//xT/Pjj9x2UFRERdRRuPr6Ayy67HI8/vsYVp6Qsx48/fo/x46+VLKfVq9d1yPe58cZbOuT7EBFRx/Ka4pySsgKffvpRh37PW26ZhJSUJ1o93mq1oqysFMHBIQCATZtexIEDe+FwODFt2l1ISroWGRlpeOaZp6HT6RAWFga1WoNZs+Zg8eKHERISihEjRuGqq0bhuefWITBQCa1Wj6VLV8FqtWLVqqVwOByw22145JFliI7ugZUrl6C6uhoWSx3mzn0Aw4ZdjltvnYhPPtmJnJwsPPvsOiiVSqjVaixatAJOpwMpKcsRFdUFx48XIiEhEY88srTFn+fVVzcjIiICMTG9sHXrWwgMVOHkyRNISroO99wzG8XFRXj66dWor7dArdZg0aJl6NKla4fceyIib1FVU4/UL3NQUl4Lk1GL5InxMGjVol7Ta4qzVPbs+Q0LFsxBebkZCoUCt946GZdfPhz//e9POHnyODZufA0WiwV//vN9uOKKK/GPf6zBihV/Q1xcb2ze/BJKS0sAAKdPl+HVV99GYGAg5sy5F0uXrsTw4UPw+uup2Lr1TQwaNAR6vQEpKU8gPz8f1dVVOH68EKdPl+G5516G2WzGsWNHBLmtXfsklixZgb59+2HXru/w4ovPYP78h3Ds2FE8++yL0GiCcOedt6GsrBQREZEef87i4pN44413YLVaMWnS9bjnntl46aXnMWXKNIwYMQq//fYrNm16EatWtf7DDBGRL0j9Mge7s04BAAqKGvZiz500UNRrek1xTkl5ok2z3I7S+Fj7zJlyPPzwfHTrdgkA4PDhQ8jOzsKCBXMAADabDUVFJ1FaWoq4uIYDPoYMuRTffPMlAKBbt0tc+76PHMnH+vVPQa1Woba2Dj169MRVV41EYeFRLFmyECqVCvfcMxtxcb0xefKdSElZDpvNhilTpgtyKy0tQd++/c5eaxg2bXoRANC9ezR0Oj0AICIiEvX19Rf8OePi+kClUkGlUkGjCXL9jKmpr2Pr1jcBgC1YicgvlZTXeozFwD9tWyk01IjHHvs7HnjgL+jffxt69uyFSy+9HIsXL4fD4cAbb/wT3bt3R1RUF+TnH0ZsbBzS0w+6vl6hOLf2LiamJ1as+BsGDeqLb77ZhbKyUuzbtwcREZF49tmXkJb2OzZvfgkPPfQoamqqsW7d8ygtLcXcubMwatRo1/eJjDTh0KFc9OnTF/v370WPHjFnr6Vo88/X0pfExPTCjBl3Y9CgIThypAD79u1p8/clIvJ2JqPWNWNujMXG4twGsbFxmDJlGp57bh3+/vensG/fHsyb90fU1tZgzJjx0On0WLhwMdas+Ru0Wh0CA1UwmaLcvs/ChUvxxBMroVQqYLXasWTJYwgNDcXKlcvw7rvvICAgAPfd9ydER/fA669vwRdf/AsqVSBmz/6z4PssXrwczz77NJxOJ5RKJZYseaxDf9758x/E+vVPob6+HhZLHR588JEO/f5ERN4geWI8AAjeOYtNtN7abeUrPVU/+OBdJCVdh7CwMGzZ8jICAwNx331/anGsP/aS7Wi8h+3He9h+vIft54/3UJLe2v4qPDwcf/3rfGi1OhgMBixfniJ1SkRE5GVYnDvY+PHXSroHmoiIvB87hBEREckMizMREZHMsDgTERHJDIszERGRzLA4e9D0VKoFC+bgL3+ZhW+++crj1xQVFeHHH3/o8Fxyc7Px+uuvnPe/WyyWDu89TkRE0uBq7QtoeipVTU0NFiyYg5iYGFfbzOb27t2NI0cKcPXVYzo0j759+533mkBD7+5PP/0It9wyqUOvS0REnc+nirPYJ4fodDrcdttkfPvtN4iL64N161bj1KlinDlzBlddNRKzZs3B22+/gbq6OgwaNBh6vcE1262rq8OKFY8jJqan6/vt2LEDn3++EzU11SgvL8d99/0R48Zdg927/4ctWzZCo9EgJCQUS5euRG5uNj7++AM8/vgaTJ9+OwYNGoKjR48gPDwcTzzxNN566zUUFOTj9ddfwWWXXYEXX3wOKpUKwcHBWLXqCVevbSIikj+feqzdeHJIQVEldmedQurOnA6/Rnh4OM6cKcepU8VITByEZ555ES+//E989NH7UCqVuPvue3Hdddfj6qvHIj//MFau/DteeGETrr56DL799mu371dbW4Nnn30Jzz77IjZseBY2mw1PP70aq1evw4svbsHQocPw5puvCr7mxInj+OMf/4LNm19HebkZmZkZ+MMfZqFXr1jcd9+fsGvX9xg7djxefHELbrrpNlRU+FfXHSIib+dTM+fOODmkqKgIJlMUQkJCkJmZjr17f4Ner0d9vdVtrMlkwnPPrYNWq0NJySkMGjTEbczQocMQEBCA8PAIBAeHoKysFDqd3tWTe+jQS7F588sYOfJq19eEhhpd5ypHRXVBfb1F8D2Tk+/DW2+9hgcfnAuTKQoJCeIebUZERB3Lp2bOzU8K6eiTQ2pqqvHppx8iKelafP75ZzAYGh4ZT59+NyyWOjidTigUCjidDgDA2rVPYNmyVVi+PAWRkaYWv2d2dhaAhnfG1dXViIw0oaamGqWlpQAgOG2qUUunTikUAa7rfvXVv3HjjTdjw4bNiI2Nwyef7Oiwe0BEROLzqZmzGCeH7NnzGxYsmAOlUgm73Y7Zs/+MmJhesNnsSElZht9/34+goCBER/dAaWkJevfug7feeg3x8f0xceKNmDPnXgQHByMsLAKlpSVu3//06TI8+OBcVFVVYeHCxVAqlVi0aDmWL38UAQEKBAeHYNmyFBw+fMhjnmFhYbBabXj55RcwdmwSnngiBTqdDiqVCosWLW/3fSAios7DU6kktGvXV0hLy8LcufdLnYrX8seTbDoa72H78R62nz/eQ0+nUvnUY20iIiJf4FOPtb3N5MmTMXq0f31SJCKiC+PMmYiISGY4cyYi8mFiN2cicYhWnHfs2IEPP/wQQEPf58zMTPz0008ICQkR65JERNRMY3MmACgoaniNNncSex/InWjFefLkyZg8eTIA4PHHH8cdd9zBwkxE1Mk6ozkTdTzR3zkfPHgQhw4dwrRp08S+FBERNSN2cyYSh+j7nBcsWIC7774bV111lcdxNpsdKpVSzFSIiPxORXU9Nn5wAMWna9AlXIe5dwxBiJ7vnOVO1OJcUVGB6dOn4/PPP7/gWH/bfA7456b7jsZ72H68h+3He9h+/ngPPTUhEXW19u7duzFy5EgxL0FERCQqKVa8i1qc8/PzER0dLeYliIiIRCXFindRi/Mf//hHMb89ERGR6KRY8c4OYURERB5IseKdHcKIiIg8EOM44gthcSYiIvLAoFV3elc1PtYmIiKSGRZnIiIimWFxJiIikhkWZyIiIplhcSYiIpIZFmciIiKZYXEmIiKSGRZnIiIimWFxJiIikhkWZyIiIplhcSYiIpIZFmciIiKZYXEmIiKSGRZnIiIimWFxJiIikhkWZyIiIplhcSYiIpIZFmciIiKZYXEmIiKSGRZnIiIimWFxJiIikhkWZyIiIplhcSYiIpIZFmciIiKZYXEmIiKSGZWY33zz5s34z3/+A6vVihkzZmDq1KliXo6IiMgniFacf/nlF+zbtw/vvPMOamtr8dprr4l1KSIiIp8iWnH+8ccfER8fj/nz56OqqgqLFi0S61JEREQ+RbTibDabceLECWzatAmFhYWYO3cuvvjiCygUihbHh4XpoFIpxUpHtkymYKlT8Hq8h+3He9h+vIftx3t4jmjF2Wg0Ii4uDmq1GnFxcdBoNDh9+jQiIiJaHG8214iVimyZTMEoKamUOg2vxnvYfryH7cd72H7+eA89fRgRbbX2ZZddhl27dsHpdKK4uBi1tbUwGo1iXY6IiMhniDZzHj9+PHbv3o0pU6bA6XRi5cqVUCr977E1ERFRW4m6lYqLwIiIiNqOTUiIiIhkhsWZiIhIZliciYiIZIbFmYiISGZYnImIiGSGxZmIiEhmWJyJiIhkhsWZiIhIZkRtQkJEROTtqmrqkfplDkrKa2EyapE8MR4GrVrUa7I4ExEReZD6ZQ52Z50CABQUNRzOMXfSQFGvycfaREREHpSU13qMxcDiTERE5IHJqPUYi4GPtYmIiDxInhgPAIJ3zmJjcSYiIvLAoFWL/o65OT7WJiIikhkWZyIiIpnhY20iIpJM4x7i8up6GPXqTtlD7A1YnImISDJN9xA36uz3u3LEx9pERCSZ4tPVwthcfZ6R/oXFmYiIJFNZY/MY+ysWZyIikoxBK3y7agji21aAxZmIiCTUNULvMfZX/IhCRESSaey21XS1NrE4ExGRhBq7b5lMwSgpqZQ6HdngY20iIiKZ4cyZiIgkwyYkLWNxJiIiybAJScv4WJuIiCRTUl7rMfZXos6cJ02ahODgYABAdHQ01qxZI+bliIjIy5iMWhQUVQpiErE4WywWAEBqaqpYlyAiIi/HrVQtE604Z2Vloba2FrNmzYLNZsNf//pXDB06VKzLERGRF+JWqpYpnE6nU4xvnJ2djQMHDmDq1KkoKCjAn/70J3zxxRdQqVr+PGCz2aFSKcVIhYiIyKuINnOOjY1Fz549oVAoEBsbC6PRiJKSEnTr1q3F8WZzjVipyBY/KbYf72H78R62H+9h+/njPTSZgs/730Rbrf3+++/jqaeeAgAUFxejqqoKJpNJrMsRERH5DNFmzlOmTMHSpUsxY8YMKBQKrF69+ryPtImIiOgc0aqlWq3G+vXrxfr2REREPotNSIiIiGSGxZmIiEhmWJyJiIhkhsWZiIhIZrh8moiIJMMjI1vG4kxERJLhkZEt42NtIiKSDI+MbBmLMxERSab5EZE8MrIBH2sTEZFkeGRky1iciYhIMjwysmV8rE1ERCQznDkTEZFkisqqsW77ftTUWaHTBOLRu4aia5he6rQkx5kzERFJZt32/TBXWmCxOmCusmDdtv1SpyQLLM5ERCSZ6lqrx9hfsTgTEZFk9EGBwlgbeJ6R/oXFmYiIJPPoXUMRFqyBJjAAYcEaPDpzqNQpyQIXhBERkWS6humxfv4obqVqhjNnIiIimWFxJiIikhkWZyIiIplhcSYiIpIZLggjIiLJVNXUI/XLHMHBFwatWuq0JMfiTEREkkn9Mge7s04J/t3cSQMlykY++FibiIgkU1Je6zH2VyzOREQkGZNR6zH2V61+rL1nzx7k5OTgjjvuwIEDB3DFFVeImRcREfmB5InxACB450ytLM5vvvkmvv76a5w6dQrXX389Vq5ciSlTpmD27Nli50dERD7MoFVj7qSB7BDWTKsea3/44Yd49dVXodVqERYWhvfffx8ffPDBBb+urKwMY8eORV5eXrsTJSIi8hetmjkHBARArT63tF2j0UCpVHr8GqvVipUrVyIoKKh9GRIRkc/iVqqWtWrmPHz4cKxduxa1tbX4+uuvMXfuXFx11VUev2bt2rWYPn06oqKiOiRRIiLyPY1bqXKPlWN31imk7syROiVZaNXMedGiRXj33XfRr18/fPTRRxg3bhymTZt23vE7duxAeHg4Ro8ejS1btrQqkbAwHVQqz7NxX2QyBUudgtfjPWw/3sP24z28OOXV9W4x72Uri3NtbS3sdjteeOEFFBcXY/v27bBarVCpWv7yDz74AAqFAv/973+RmZmJxYsXY+PGjTCZTOe9htlcc3E/gRfjAoj24z1sP97D9uM9vHhGvdot9pd76elDSKuK88KFC9GvXz8AgF6vh8PhwKJFi7Bhw4YWx2/dutX1z8nJyUhJSfFYmImIyD9xK1XLWlWcT5w4gU2bNgEADAYDHn74Ydx2222iJkZERL6PW6la1qrirFAokJ2d7Zo95+XlnfeRdnOpqakXnx0REbVL42rokvJamIxarob2Eq2qsIsXL8asWbPQpUsXAIDZbMbTTz8tamJERNR+TQ+WKChqmJnyYIm2KSqrxrrt+1Fda4U+KBCP3jUUXcP0ol6zVcV55MiR+Pbbb5GTkwOVSoW4uDjBvmciIpInHizRfuu274e50gIAqK+yYN22/Vg/f5So1/RYnDds2ID7778fS5cubfG/r1mzRpSkiIioY5iMWteMuTGmtqmutXqMxeCxOCcmJgJoaEJCRETep3H1c9N3ztQ2+qBA1FdZzsXaQNGv6bE4JyUlAQA+++wzvPrqq6InQ0REHatxNbRceUP7zkfvGop1286+c9YG4tGZQ0W/ZqveOdfV1eHkyZPo1q2b2PkQEZEfabpgrZHcPkx0DdOL/o65uVYV57KyMiQlJSEiIgIajcb177/55hvREiMiovaTYqVxWxw/Vekx9letKs4bN27E999/j//9739QKpUYO3YsRowYIXZuRETUTlKsNG6LkjN1HmN/1arivGnTJlgsFtx5551wOBz4+OOPkZubi+XLl4udHxGRbHnD+1IpVhq3iUIBwNksplYV5wMHDuCLL75wxUlJSbj55ptFS4qIyBu89nkm9h8qc8VWmx0PTBkiYUbupFhp3BaGoECYm+RnkFl+UmnVec7R0dE4cuSIKy4tLXV1CyMi8lc5x8o9xnLw6F1DERasgVoVgLBgTaesNG6Lxvw0gfLMTyqtmjnbbDbcdtttuPzyy6FSqbBnzx6YTCb84Q9/AAC89dZboiZJRCRPzR/Byu+RrBQrjduiMT8efCHUquI8b948QTxr1ixRkiEi8ib9ehix71DpuTjGKF0y5FNaVZzZIYyIyN19N/WHamcOzyKmDte6cx+JiMiNN5xFzCMjvROLMxHRRWps8FFTZ4VOI78GH4BwRXlBUaUsV5STu1at1iYiIneNDT4sVgfMZxt8yI03rCgndyzOREQXSfYNPgA4HE6PMckTH2sTEV0kuTf4AAClUgFYm8Uy4g1d1qTAmTMR0UXyhgYa1XV2j7HUGk+lyj1Wjt1Zp5C6M0fqlGSBM2cioovEBhrtV1Je6zH2V5w5ExGRZExGrcfYX3HmTETkw3pEBuFYaZ0glpPbx8Ti0PEzDdvRggJx+9hYqVNyI8Vecc6ciYh8WJHZ4jGW2nvf5p3bjlZpwXv/yZM6JTeN78ULiio77b04izMRkQ+z2p0eY6llHy33GMuBFO/FWZyJiHxYYLOtU81jqdntdo+xHEjxXpzvnImILpI37NHtfUkwso5VCGI5sdicHmM5aDzQpOk7Z7GxOBP5KW8oLHLX+C6yqbmTBkqUTcvkvs/ZGzQecNKZRCvOdrsdK1asQH5+PpRKJdasWYOYmBixLkdEbeQNhUXuvGGPblWdzWMstUClQvAeXG6P3aUi2jvnb7/9FgCwfft2PPDAA1izZo1YlyKii+ANhUXuDEFKj7EcqBSeY6ktmDIQjSkpANw/lR8QARFnztdeey3GjRsHADhx4gQiIyPFuhQRXQSTUYuCokpBTG1TWFrjMZaD0gqLx1hqPx4oRuO82Qlg1/5iDOxlkjIlN1Lscxb1nbNKpcLixYvx1Vdf4YUXXvA4NixMB5VKfp86xWYyyWtxhjfiPbw4D828DBs/OIDi0zXoEq7D3DuGIETPd85tUVld7xbL7ddj8+VVTsjr90xZRZ1bLKf8AOC1t3a7XgEVFFVCo1Fh8R+uEPWaoi8IW7t2LR555BHceeed+Ne//gWdTtfiOLNZfp84xcZ+vO3He9g+s27o77qHlhoLSmrkNauSu+anLzqc8Ipfj3LK0dxsJm+utMgqPwAoLK50izsiR08fQkR75/zRRx9h8+bNAACtVguFQgGl0v9mxkREdH5atbAMaQPl137DaFB7jMUg2sx5woQJWLp0Ke666y7YbDYsW7YMGo1GrMsREXW6lh4ZU9vUWh0eYzlQKBQeYzGIVpx1Oh2ef/55sb49ERH5gGCdCuZKiyCWm6b5tRSLQX7PD4iIvETz+ZPMdil5hS5heo+xHLB9JxGRF0nsZURaQbkglpu+0SHILawQxHLS2Aqzaac6uWH7TiIiL3Lb6DhkH9sHm90JlVKB28bGSZ2SG2uzXtXNY8nJLJ2WSNG+k4+1iYgu0ssfpcNqd8KJhqMYX96RLnVKbqRYadwWr32eid1Zp5B7rBy7s07htX9lSp2SLHDmTOSnvOHgCyk6M7VFda3VYywH1XVWj7HUso6c9hj7KxZnIj/lDQdfNM2xsdWonHLUBwWivurcyl29NlDCbFrW9H1zS7HUrDbPsb/iY20iP+UNB1/IPcdH7xqKsGANNIEBCAvW4NGZQ6VOyeuomzUdUatZlgAWZyK/JcX2kLaSe44GTSD6dA9FTNcQ9OkeCkOQ/GbOctc/Jsxj7K/4WJvIT3ELS/u9/u8s7MstdcU2uwP33zFYwoy8z9Sk3igorkRNnRW6oEBMTeotdUqywOJM5Kcat4fI+vAQmW+zSc8/7TGmC/vwh3xXxy2L1YIPv8+X1boCqbA4E5FsyX1BWL3N4TGmC5P7ugKp8J0zEclWUVm1x5i8X5hBeCBSWDAPSAI4cyYiGauqs3mMyftZbcL/p1YZ7qWSYr89izMRyZY3nFhE7XP4ZKXHWA6keL3Cx9pEJFtBKqUwVivPM5K8l/zP9pLi9QqLMxHJVs5xYTernGPy6m5F7devh1EYxxhbHCelypp6j7EY+IyIiIgkc99N/aHamSPr/faWZqvwm8diYHEmIiLJeMN+e6fD4TEWA4szEclW3CXBOHzi3B/YvbsHS5gNicEbTkcLUqtQZ7UKYrGxOBORbOmaLQDTBnJBmK957fNM7D9U5oqtNjsemDJEwozchRjUKK+2CmKxcUEYEclW9rFyjzF5v/T8Mo+xHHQJ03uMxcCZMxHJltXuOSbv5w3/j6U4gIXFmchPFZVVY932/Q2nAWkC8ehdQ9G1E2YERN6mcdFaZ+JjbSI/9fS2vTBXWmCxOmCusuDpt/dKnRL5Ifm3IJEGizORnzpTY/UYy8Ffpw9y/WGtOBuTb4kM0XiM/RWLM5GfCmg2R2key0FksA7GYA3UqgAYDRpEhuqkTok6WPN+HjaZn+HdWVicifzUgJ5GYdzL2OI4Ka3bvh/mSgvqbQ2P3tdt2y91StTBDFrh0idDEJdCAVwQRiQKKY6Ya6s5tyUiVeZtE6uaPWpvHpP36xqhx7GSakFMIhVnq9WKZcuW4fjx46ivr8fcuXNxzTXXiHEpIlmS4oi5tvKGtok2u8NjLDVNYAAsVocglhuVQvioWCWztxeNHwrl/CFRCqIU508++QRGoxHr1q2D2WzG7bffzuJMfqWkvNZjLAfe0Dax+etHub2OVAYoPMZy0Pwdrtze6RaX1WB/bglsdidUSgUmXBktu1+HUhDlY97111+PBx980BUrlWy5R/7FZNR6jOVg44cHsTvrFHKPlWN31ils/PCg1Cl5nRqL3WNMF7b2nX2w2p1wArDanVj79j6pU5IFUWbOen3DO4Oqqio88MADeOihhy74NWFhOqhU/lfETSY28m8vOd7Dh2Zeho0fHEDx6Rp0Cddh7h1DEKKX12wg89gZYXz0jCzvZXNyz1Hu+QHyytFmd7rFcspPKqItCDt58iTmz5+PmTNn4pZbbrngeLO5RqxUZEvO7/q8hZzv4awb+rv+2VJjQUmNRcJsWkeu97Ipueco9/wA+eco9/w6iqcPIaIU59LSUsyaNQsrV67EiBEjxLgEERGRzxLlnfOmTZtQUVGBl19+GcnJyUhOTkZdXZ0YlyKiixQREugxJiLpiDJzXrFiBVasWCHGtyaiDlJRbfMYE5F05Lcpj4g6hcPp9BgTkXTYIYzITwUoFLA32TkcoJDfHl0iOZCi4x+LM5GfijQG4WRZrSAmIncd1fGvouIMMjLSkZ5+EOnpaUhNfeO8Y1mcifxUbbOGGc1jImrQ1o5/DocDR44UID09zVWIMzLScPToEcE4FmciclNnsXmMiaiByah1zZgb40bV1dXIzExvVojTUV1dJfgekZEmjB07HomJg5CYOBCJiZ7PJmdxJhKBN5xK5Wy2AKx5TEQNkifGw+l0Ir/gCKwVhTiT/Qtmz34a6ekHkZ9/WPB7R6lUom/feCQkDBQU4i5durTpmizORCLwhlOpLM1OQGgeE/mruro65ORkIT09DWlpv7seS5eXlwvGGY1GjBx5tasAJyYORHx8fwQFtX/9BoszkQi84VQqIgKKi4tdj6PT0w8iIyMNubk5sNvPrcFQKBSIi+uNMWPGny3EDcX4kku6QyHSLgcWZyIRGA1qjzERdS6r1Yrc3BxBIU5PT0NpaYlgnF5vwLBhl7sK8MCBg9C/f4LrQKfOwuJMJAK7w+kxJiLxnD5dJijA6elpyMnJQn19vWBcTExPXH/9TYLH0j179kJAgPT9uViciUSQd7zCY0xE7We325Gff9htNnzixHHBuKCgIEEBTkwchISERISEhEqU+YWxOBOJovlMmTNnovaorKxAenq6671wevpBZGVloqZGeNxw167dcM0117keSScmDkJcXG8olUqJMr84LM5EIojvYcT+Q2WCmIguzOl0oqAg3+2x9NGjBYJxgYGBiI/v7zYjjoiIkCbxDsbiTCSCWTcNQOpO4T5nIhKqqamB+WQOKkryUVFSgIqSAlSWFuBfzwp3N0RGRrqtlO7bNx5qte8utGRxJhIDn2ITuTidTpw8eUIwE05PP4jDh/PgcDhc4xSKAOjDu2PC2CuRkDAIAwc2FOKoqC6ibVmSKxZnIhF4QxMSIjFYLBZXA4+mC7XMZrNgXEhIKK68cgRO1hoREhWLEFMvBIf3gDJQg01LkiTKXj5YnIlEcPxUpceYyBecOnWqxQYeNtu5Pu0KhQK9esVi1KgxgvfD0dE9oFAo8MDzP6Cq9tx4g5ZlCWBxJhJFyZk6jzGRN7HZbDh0KBfp6QeRlnbQVZBLSk4Jxul0egwdOqzJAq2BGDAgEQaD4bzfO1QXKCjOofpA0X4Ob8LiTCQGhQKCF89+9r6MvFd5udltpXR2diYsFotgXI8eMbj++hsFBzz06hXb5gYelXXC09Aqa3k6GsDiTCQKvUaFctu5bkT6IP5WI3lxOBzIz89zK8THjxcKxmk0GvTvn+CaCQ8cOBgJCYkIDTV2SB4V1VaPsb/inxhEIog26VBefa44R0fqJMyG/J2tvvbsVqWGLUs3fP8EMjMz3Bp4dOnSFUlJ1wr2Dffu3QcqFUtFZ+MdJ6/UeF5yeXU9jHq17M5LPtPs03/zmEgMTqcTx44ddc2G09IO4ruffkXNmWLBuBMqVYsNPCIjIzs95wAF0LT1fADfAAFgcSYv1XSrUiM5bVWqavYerXlM1F61tbXIysoQPJbOyEhHRcUZwbjAoGBE9BiE0KhYhJgatixtW5MsmwYeAQEKOOxOQUwszuSl5H5eskrhOSZqLafTiaKik26HO+TlHRI08AgICEDv3n2QlHSNYDa87I1MtwYecinMAACn03Psp1icySuZjFpXc4/GWE5KKiweY6KW1NfXIycnG2lpv5+dCTcU49OnTwvGBQeHYPjwqwSPpfv1GwCdzn1tg0KR1VnpX5RgnQbmqnO/P4L1GgmzkQ8WZ/JKjb2qm75zJvImpaWlbrPh3NxsWK3C9Qm9esVixIirBYW4R48Yn2lnOW9yIp7eug82uxMqpQLzJidKnZIssDiTVzJo1Zg7aSBMpmCUlLD7FsmXzWZDXt4ht0JcXFwkGKfT6TB48JCzPaUHnT1zOAEGQ7BEmXeOL38thPXsO2er3YkvfynE3ElGaZOSAVGL84EDB/CPf/wDqampYl6G/FBRWTXWbd+PmjordJpAPHrXUHQN00udFvk5a10Vfv75R7cGHnV1wg5x3btHY8KE6wWz4V694rzuzOGOUFRW7TH2V6IV51deeQWffPIJtFp5vQsk3/DU1r2oqGl4/GexWvBU6l4898BoibMif+FwOFBQkI+TOT8LjjusrSzBzpfPjdNoNOjXb4DgqMOEhESEhYVLl7zMnKmp9xj7K9GKc0xMDDZs2IBFixaJdQnyY42F+XwxUUepqqpCZma64KjDzMwMVFdXCcZpdEaYel6KabeMdRXiPn36soHHBVhtDo+xvxLtV83EiRNRWFh44YFnhYXpoFL53yMdk8m33yd1JrnfS7nnB/h3jk6nE0ePHsWBAwcEf+Xl5cHZZHuPSqVC//79MWTIEOw9qkKIqRdCTLHQ6I0AgA3rbxMlv44kp//Pzfc1BwQoZJWfVGTzkc5srrnwIB/DxUwdS+73Uu75Af6TY21tLbKzM90aeJw5Uy4YFxYWhlGjRgveDcfH94dG07DdZ9ZT/xElP7HJKcf47kbsO1R6Lo42yio/MXn6ECKb4kzUFjpNAGos5x5/6TVtOwmH/IPT6cSpU8VuRx3m5R2C3W53jVMoFOjduw/GjUsSvB/u1u0Sn9myJFdTk3qjoLjStbhzalJvqVOSBRZn8koqlRJoUpyVfvhKhITq6+uRm5sjWCmdkXEQpaWlgnEGQzAuu+wK13alxMSB6N8/ocUGHiS+D3/Ih7myoQmJxWrBh9/ny6oVr1RELc7R0dF49913xbwE+amaWqvHmHxbWVmZ277hnJwstwYeMTG9cMMNwk5aMTE923zmMImn+LRw61SxmVupAM6cyUs1PGp0NovJ1zgddlSZT7i2KlWU5GPwtrkoKjopGKfVajFo0OCzW5UaC3EigoNDJMqcWquyxuYx9lcszuSmscFHda0V+iB5NvhoXotZm71fRcUZZGSku2bCaWm/4/eD6XDYhfteL7mkO667bqLgcIfYWP9s4OELDFqVoLe2IYhlCWBxphas277f9Q6ovsqCddv2Y/38URJnJVRvc3qMSb4cDgeOHClotlI6DUePHhGMU6vVMIR3R0hUwzGHIZGxCDH1xNuPT5ImcRJF1wg9jpVUC2JicaYWVDV7f9s8Jmqt6urqJg08zm1Zat7AIzLShLFjxwtmw337xuPP63dJlDl1Fh5i0zIWZ3LH81WpjZxOJ06cOC7YrpSefhD5+YcFDTyUSiX69o1v8l644e9dunSRMHuSEg+xaRmLM7mJCgvC8dJaQUzUqK6uDjk5WYLZcHr6QZSXlwvGhYYaMXLk1W4NPIKC+OuJ6EJYnMmNyagTFGeTkfs//VVxcbGgAGdkpCE3N8etgUdsbBxGjx4nKMTdu0dzFT3RRWJxJjfN/0DlH7C+z2G3oep0Id57b7tgRlxaWiIYp9cbMGzY5YIiPGBAIvR6LuIh6kgszuSmcaX2+WLybmbzaaSnp+Hwnk9cxx1WnT4Gh92GH5ocvR4T0xPXX3+ToBD37NmLDTyIOgGLM7nRapQeY/IOdrsd+fmH3TppnThxXDAuQKlGcGTDdqV5d01wnTkcEhIqUeZExOJMbrKPlHuMSX4qKyuQnp7uei+cnn4QWVmZqKkRnvbWtWs3XHPNdUhMHIRdhxQIMfWCPuwSBAQ0fACbPTtJivSJqBkWZ3LT/KhzHn0uH06n062BR3p6Go4eLRCMCwwMRHx8f8Ej6cTEQYiIiHCNaem4Q/I9wka3DTHJH4szkUzV1NQgKytDsHc4IyMdVVXCvaCRkZEYM2a84KjDvn3joVarJcqc5CRUH4jyaqsgJvljcZZAVU09Ur/MEXTEMWj5B6m/cjqdOHnyhGAmnJ5+EIcP58HhOPfcIiAgAH369HUV4MYjD6OiunBFPZ3XoruHYd22s73ytYF4dOZQqVOiVmBxlkDqlznYnXVK8O94fql/sFgsLTbwMJvNgnEhIaG48soRgsfS/foNgFarlShz8lYGTSD6dA9FSXktTEYtDEGcOXsDFmcJlJTXeozJN1iqy11blSpKCjD238uQm5sDm014JF5sbBxGjRojKMTR0T04G6YO0XQyUFDU8EqEkwH5Y3GWALcq+RabzYZDh3IFM+Gff90LS7VwNmzW6TF06LAmC7QaGngYDAaJMid/wMmAd2JxlkBms61JzWOSr/Jys9tK6ezsTFgswkYt2mATusRdgRBTLwSbGvYQb18zkw08qNOZjFrXjLkxJvljcSZqgcPhQH5+nlshPn68UDBOo9Ggf/8EwUrphIRE/HXTPrfvycJMUmg8grHxnTOPZPQOLM7k96qqKpGRkYG0tN/Pblc6iMzMDLcGHl26dEVS0rWCfcO9e/eBSsXfRv5KH6REdZ1dEMtN45GM5F187k+Vxm1KTT8lcpsSAQ1blo4dO+q2UrqgIF8wTqVStdjAIzIyUqLMSa7Cg4NQXVctiIk6gs8VZ65MJACora1FVlaGoBBnZKSjouKMYFx4eDhGjx6LhIRzj6Xj4/tBo9FIlDl5k64RehwrqRbERB3B54ozVyb6F6fTibqq06goycfzz+9zFeK8vENuDTx69+6DpKRrBLPhrl27ccsSXbTG97dNGwoRdQSfK85cmei76uvrkZOT3fBu+Lt/u/YQW+sa/n/v/qhhXHBwCIYPv8qtgYdOp5MuefJJje9zTaZglJRUXvgLiFrJ54ozVyb6htLSUrejDnNzs2G1WgXjdKFdEBGdiBBTLyz7861ITByImJienA37iLjuwTh8/FzR6909WMJsiDqPzxVnrkz0LjabDXl5h9wKcXFxkWCcTqfD4MFDkJDQMBP+ZF89giN7IlBzbjZ844087tDXPDRlCFJ35vDDNvkdnyvOJF9nzpS32MCjrq5OMK5792hMmHC94LF0r15xUCrPbVP5kccd+gV+2CZ/xeJMHc7hcKCgIP9sAf7dVYgLC48Jxmk0GvTrN8CtgUdYWLhEmfsXjUoBi80piIlIHkQrzg6HAykpKcjOzoZarcYTTzyBnj17inU5kkhVVRUyM9MFRx1mZmagurpKMM5kisK4cUmCldJ9+vRFYCBPyJHKqtnDsW7bftTUWaEL4lGCRHIiWnH++uuvUV9fj//7v//D/v378dRTT2Hjxo1iXc6rqAIAm0MYy53T6URh4bEWG3g4nedmXyqVCn37xp/dN3yuEEdFRUmYfefTBgK1VmEsN13D9Fg/fxRXGhPJkGjFec+ePRg9ejQAYOjQoUhLSxPrUl5ncfIwPP32PtjsTqiUCiy6+1KpUxIYOzgUH3+5x7VVSVl3HPGv3oszZ8oF48LCwjBq1GjBu+H4+P6d0sBj8pge2PHDMUEsJ4/NupIH3BPRRVM4m057OtDy5csxYcIEjB07FgAwbtw4fP311+ftQ2yz2aFSya8vrS9zOp0oKirCgQMHBH9lZ2fDbj/XL1ihUCA+Ph5DhgwR/NW9e3duWSIiEoFoM2eDwYDq6nNt7RwOh8cDAszmmvP+N1/VmY8T6+vrkZubI1gpnZFxEKWlpYJxBkMwLrvsCsFsuH//BOj17m0JS0ur3P5dZ+Mj2fbjPWw/3sP288d7aDKdf9++aMV52LBh+Pbbb3HjjTdi//79iI/n/sTOUlZW5rZvOCcny62BR0xML9xwg7CTVkxMTx5tSEQkMdGK83XXXYeffvoJ06dPh9PpxOrVq8W6lN+y2+04fDjPddRhYyEuKjopGKfVajFo0OCzW5UatywlICQkVKLMiYjIE9GKc0BAAP72t7+J9e39TkXFGWRkpAtmxFlZmaitFR7s0a3bJbj22gmumfDAgYMRGyts4EFERPLGJiQy43A4cORIQbOjDtNw9OgRwTi1Wt3kzOFzj6XDwyMkypyIiDoKi7OEqqur8dtvv7qdOdy8gUdkpAljx44X7Bvu2zeeDTyIiHwUi3MncDqdOHHiONLSDgoeS+fnHxY08FAqlS028OjSpYuE2RMRUWdjce5gdXV1yMnJcuukVV5eLhgXGmrEmDFjEB8/QHDmcFBQkDSJExGRbLA4t0NxcbGgAGdkpCE3N8etgUdsbBxGjx4neDfcvXs0oqJC/G5fHxERXRiLcytYrdZmDTwa/l5aWiIYp9cbMGzY5W4NPAwGg0SZExGRNxKtfScRERFdHLaCIiIikhkWZyIiIplhcSYiIpIZFmciIiKZYXEmIiKSGRZnIiIimWFxlkhZWRnGjh2LvLw8qVPxSps3b8a0adMwefJkvPfee1Kn45WsVisWLlyI6dOnY+bMmfy12EYHDhxAcnIyAODIkSOYMWMGZs6ciVWrVsHhcEicnXdoeg8zMzMxc+ZMJCcnY/bs2SgtLZU4O2mxOEvAarVi5cqVbNV5kX755Rfs27cP77zzDlJTU1FUVCR1Sl7p+++/h81mw/bt2zF//nw899xzUqfkNV555RWsWLECFosFALBmzRo89NBD2LZtG5xOJ7755huJM5S/5vfwySefxGOPPYbU1FRcd911eOWVVyTOUFoszhJYu3Ytpk+fjqioKKlT8Uo//vgj4uPjMX/+fPzlL3/BuHHjpE7JK8XGxsJut8PhcKCqqgoqFRsGtlZMTAw2bNjgitPT0zF8+HAAwJgxY/Dzzz9LlZrXaH4Pn3nmGQwYMAAAYLfbodFopEpNFvi7sZPt2LED4eHhGD16NLZs2SJ1Ol7JbDbjxIkT2LRpEwoLCzF37lx88cUXUCgUUqfmVXQ6HY4fP44bbrgBZrMZmzZtkjolrzFx4kQUFha6YqfT6fr1p9frUVnJnvkX0vweNk5W9u7di7fffhtbt26VKjVZ4My5k33wwQf4+eefkZycjMzMTCxevBglJSUX/kJyMRqNuPrqq6FWqxEXFweNRoPTp09LnZbXeeONN3D11Vdj586d+Pjjj7FkyRLXI0Zqm4CAc3+UVldXIyQkRMJsvNfnn3+OVatWYcuWLQgPD5c6HUmxOHeyrVu34u2330ZqaioGDBiAtWvXwmQySZ2WV7nsssuwa9cuOJ1OFBcXo7a2FkajUeq0vE5ISAiCg4MBAKGhobDZbIIT1aj1EhIS8MsvvwAAfvjhB1x++eUSZ+R9Pv74Y9efjT169JA6HcnxsTZ5nfHjx2P37t2YMmUKnE4nVq5cCaVSKXVaXufee+/FsmXLMHPmTFitVjz88MPQ6XRSp+WVFi9ejMceewzPPPMM4uLiMHHiRKlT8ip2ux1PPvkkunXrhvvvvx8AcMUVV+CBBx6QODPp8FQqIiIimeFjbSIiIplhcSYiIpIZFmciIiKZYXEmIiKSGRZnIiIimWFxJiI3S5YswY4dO6ROg8hvsTgTERHJDJuQEPmQ9evXY+fOnQgLC4PJZEJSUhK2bNmCsLAwBAUFYcOGDVi2bBmKi4tx6tQpjBgxAk8++SQA4KmnnsJ3332HqKgo2O1210EOH330Ed588004HA4kJiZi1apVfn8oAZHYWJyJfMR//vMf7NmzB5999hlqa2tx++23IykpCfn5+fjnP/+J6OhofPbZZxgwYABeeOEF1NfX46abbkJ6ejoKCwuRkZGBzz77DJWVlbj11lsBALm5uXj33Xexfft2aDQarF+/Hq+++irmzZsn8U9L5NtYnIl8xM8//4wbbrgBarUaarUa1157LQAgIiIC0dHRAICbb74Zv//+O9544w0cPnwY5eXlqKmpwa+//ooJEyYgMDAQ4eHhGDNmDICGs7OPHDmCO++8E0DDWeQJCQnS/IBEfoTFmchHBAQEwOFwuP37oKAg1z+npqZi586duPPOOzFy5Ejk5OS4jjts2sm38Wxnu92OG264AStWrADQcOISD8cgEh8XhBH5iJEjR+LLL79EfX09qqqq8N133+HEiROCMT/99BOmTZuGW2+9FRaLBVlZWXA4HBgxYgT+/e9/o76+HmfOnMGuXbsAAFdeeSW++uorlJWVwel0IiUlBW+++aYUPx6RX+HMmchHjBs3Dvv27cPtt9+O0NBQREVFuS3cuueee5CSkoItW7bAYDDg0ksvRWFhIaZOnYqDBw/i5ptvRmRkJHr37g0A6N+/PxYsWIB77rkHDocDAwYMwJw5c6T48Yj8Ck+lIvIR+/btQ0FBAW6//XZYrVZMmzYNq1evRv/+/aVOjYjaiMWZyEeUl5dj4cKFKCkpgdPpxKRJkzB79myp0yKii8DiTEREJDNcEEZERCQzLM5EREQyw+JMREQkMyzOREREMsPiTEREJDMszkRERDLz/w0G3euFz63DAAAAAElFTkSuQmCC\n",
      "text/plain": [
       "<Figure size 576x396 with 1 Axes>"
      ]
     },
     "metadata": {},
     "output_type": "display_data"
    }
   ],
   "source": [
    "# plotting a regression for simple linear regression.\n",
    "fig, ax = plt.subplots()\n",
    "df.plot.scatter(x=\"grade\", y=\"price\", label=\"Data points\", ax=ax)\n",
    "sm.graphics.abline_plot(model_results=grade_results, label=\"Regression line\", ax=ax, color=\"black\")\n",
    "ax.legend();"
   ]
  },
  {
   "cell_type": "markdown",
   "metadata": {},
   "source": [
    "**Simple linear on bedreooms**"
   ]
  },
  {
   "cell_type": "code",
   "execution_count": 97,
   "metadata": {},
   "outputs": [
    {
     "data": {
      "image/png": "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\n",
      "text/plain": [
       "<Figure size 576x396 with 1 Axes>"
      ]
     },
     "metadata": {},
     "output_type": "display_data"
    }
   ],
   "source": [
    "#plot a scatter plot to check for corrinality.\n",
    "df.plot.scatter(x=\"bedrooms\", y= \"price\");"
   ]
  },
  {
   "cell_type": "code",
   "execution_count": 99,
   "metadata": {},
   "outputs": [
    {
     "data": {
      "text/plain": [
       "0.30878747195653267"
      ]
     },
     "execution_count": 99,
     "metadata": {},
     "output_type": "execute_result"
    }
   ],
   "source": [
    "# Correlation value.\n",
    "df[\"price\"].corr(df[\"bedrooms\"])"
   ]
  },
  {
   "cell_type": "markdown",
   "metadata": {},
   "source": [
    "From the graph the data shows that its is a cartegorical variable and it has a poor correration coeeficient of 31% to price."
   ]
  },
  {
   "cell_type": "code",
   "execution_count": 100,
   "metadata": {},
   "outputs": [
    {
     "name": "stdout",
     "output_type": "stream",
     "text": [
      "                            OLS Regression Results                            \n",
      "==============================================================================\n",
      "Dep. Variable:                  price   R-squared:                       0.446\n",
      "Model:                            OLS   Adj. R-squared:                  0.446\n",
      "Method:                 Least Squares   F-statistic:                 1.740e+04\n",
      "Date:                Wed, 19 Apr 2023   Prob (F-statistic):               0.00\n",
      "Time:                        13:00:17   Log-Likelihood:            -3.0101e+05\n",
      "No. Observations:               21597   AIC:                         6.020e+05\n",
      "Df Residuals:                   21595   BIC:                         6.020e+05\n",
      "Df Model:                           1                                         \n",
      "Covariance Type:            nonrobust                                         \n",
      "==============================================================================\n",
      "                 coef    std err          t      P>|t|      [0.025      0.975]\n",
      "------------------------------------------------------------------------------\n",
      "const      -1.061e+06   1.23e+04    -86.396      0.000   -1.09e+06   -1.04e+06\n",
      "grade       2.092e+05   1585.790    131.895      0.000    2.06e+05    2.12e+05\n",
      "==============================================================================\n",
      "Omnibus:                    19879.964   Durbin-Watson:                   1.968\n",
      "Prob(Omnibus):                  0.000   Jarque-Bera (JB):          2043898.709\n",
      "Skew:                           4.081   Prob(JB):                         0.00\n",
      "Kurtosis:                      49.954   Cond. No.                         52.0\n",
      "==============================================================================\n",
      "\n",
      "Notes:\n",
      "[1] Standard Errors assume that the covariance matrix of the errors is correctly specified.\n"
     ]
    }
   ],
   "source": [
    "y = df[\"price\"]\n",
    "#df['grade'] = df['grade'].astype(int)\n",
    "X = df[[\"bedrooms\"]]\n",
    "model = sm.OLS(endog=y, exog=sm.add_constant(X))\n",
    "grade_results = model.fit()\n",
    "print(results.summary())"
   ]
  },
  {
   "cell_type": "markdown",
   "metadata": {},
   "source": [
    "The model is statistically siginificant since it has p value is below 0.05.\n",
    "\n",
    "The model coeffient are also statistically siginificant with the p value below 0.05."
   ]
  },
  {
   "cell_type": "code",
   "execution_count": 101,
   "metadata": {},
   "outputs": [
    {
     "data": {
      "image/png": "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\n",
      "text/plain": [
       "<Figure size 576x396 with 1 Axes>"
      ]
     },
     "metadata": {},
     "output_type": "display_data"
    }
   ],
   "source": [
    "# plotting a regression for simple linear regression.\n",
    "fig, ax = plt.subplots()\n",
    "df.plot.scatter(x=\"bedrooms\", y=\"price\", label=\"Data points\", ax=ax)\n",
    "sm.graphics.abline_plot(model_results=grade_results, label=\"Regression line\", ax=ax, color=\"black\")\n",
    "ax.legend();"
   ]
  },
  {
   "cell_type": "markdown",
   "metadata": {},
   "source": [
    "**Multiregression anlysis.**"
   ]
  },
  {
   "cell_type": "code",
   "execution_count": 104,
   "metadata": {},
   "outputs": [
    {
     "data": {
      "text/html": [
       "<div>\n",
       "<style scoped>\n",
       "    .dataframe tbody tr th:only-of-type {\n",
       "        vertical-align: middle;\n",
       "    }\n",
       "\n",
       "    .dataframe tbody tr th {\n",
       "        vertical-align: top;\n",
       "    }\n",
       "\n",
       "    .dataframe thead th {\n",
       "        text-align: right;\n",
       "    }\n",
       "</style>\n",
       "<table border=\"1\" class=\"dataframe\">\n",
       "  <thead>\n",
       "    <tr style=\"text-align: right;\">\n",
       "      <th></th>\n",
       "      <th>grade</th>\n",
       "      <th>bedrooms</th>\n",
       "    </tr>\n",
       "  </thead>\n",
       "  <tbody>\n",
       "    <tr>\n",
       "      <th>0</th>\n",
       "      <td>7</td>\n",
       "      <td>3</td>\n",
       "    </tr>\n",
       "    <tr>\n",
       "      <th>1</th>\n",
       "      <td>7</td>\n",
       "      <td>3</td>\n",
       "    </tr>\n",
       "    <tr>\n",
       "      <th>2</th>\n",
       "      <td>6</td>\n",
       "      <td>2</td>\n",
       "    </tr>\n",
       "    <tr>\n",
       "      <th>3</th>\n",
       "      <td>7</td>\n",
       "      <td>4</td>\n",
       "    </tr>\n",
       "    <tr>\n",
       "      <th>4</th>\n",
       "      <td>8</td>\n",
       "      <td>3</td>\n",
       "    </tr>\n",
       "    <tr>\n",
       "      <th>...</th>\n",
       "      <td>...</td>\n",
       "      <td>...</td>\n",
       "    </tr>\n",
       "    <tr>\n",
       "      <th>21592</th>\n",
       "      <td>8</td>\n",
       "      <td>3</td>\n",
       "    </tr>\n",
       "    <tr>\n",
       "      <th>21593</th>\n",
       "      <td>8</td>\n",
       "      <td>4</td>\n",
       "    </tr>\n",
       "    <tr>\n",
       "      <th>21594</th>\n",
       "      <td>7</td>\n",
       "      <td>2</td>\n",
       "    </tr>\n",
       "    <tr>\n",
       "      <th>21595</th>\n",
       "      <td>8</td>\n",
       "      <td>3</td>\n",
       "    </tr>\n",
       "    <tr>\n",
       "      <th>21596</th>\n",
       "      <td>7</td>\n",
       "      <td>2</td>\n",
       "    </tr>\n",
       "  </tbody>\n",
       "</table>\n",
       "<p>21597 rows × 2 columns</p>\n",
       "</div>"
      ],
      "text/plain": [
       "       grade  bedrooms\n",
       "0          7         3\n",
       "1          7         3\n",
       "2          6         2\n",
       "3          7         4\n",
       "4          8         3\n",
       "...      ...       ...\n",
       "21592      8         3\n",
       "21593      8         4\n",
       "21594      7         2\n",
       "21595      8         3\n",
       "21596      7         2\n",
       "\n",
       "[21597 rows x 2 columns]"
      ]
     },
     "execution_count": 104,
     "metadata": {},
     "output_type": "execute_result"
    }
   ],
   "source": [
    "X_second = df[[\"grade\", \"bedrooms\"]]\n",
    "X_second"
   ]
  },
  {
   "cell_type": "code",
   "execution_count": 107,
   "metadata": {},
   "outputs": [
    {
     "name": "stdout",
     "output_type": "stream",
     "text": [
      "                            OLS Regression Results                            \n",
      "==============================================================================\n",
      "Dep. Variable:                  price   R-squared:                       0.452\n",
      "Model:                            OLS   Adj. R-squared:                  0.452\n",
      "Method:                 Least Squares   F-statistic:                     8901.\n",
      "Date:                Wed, 19 Apr 2023   Prob (F-statistic):               0.00\n",
      "Time:                        13:11:27   Log-Likelihood:            -3.0090e+05\n",
      "No. Observations:               21597   AIC:                         6.018e+05\n",
      "Df Residuals:                   21594   BIC:                         6.018e+05\n",
      "Df Model:                           2                                         \n",
      "Covariance Type:            nonrobust                                         \n",
      "==============================================================================\n",
      "                 coef    std err          t      P>|t|      [0.025      0.975]\n",
      "------------------------------------------------------------------------------\n",
      "const        -1.1e+06   1.25e+04    -88.063      0.000   -1.12e+06   -1.08e+06\n",
      "grade       2.001e+05   1688.616    118.514      0.000    1.97e+05    2.03e+05\n",
      "bedrooms    3.209e+04   2138.709     15.003      0.000    2.79e+04    3.63e+04\n",
      "==============================================================================\n",
      "Omnibus:                    19922.632   Durbin-Watson:                   1.967\n",
      "Prob(Omnibus):                  0.000   Jarque-Bera (JB):          2056986.923\n",
      "Skew:                           4.095   Prob(JB):                         0.00\n",
      "Kurtosis:                      50.104   Cond. No.                         57.9\n",
      "==============================================================================\n",
      "\n",
      "Notes:\n",
      "[1] Standard Errors assume that the covariance matrix of the errors is correctly specified.\n"
     ]
    }
   ],
   "source": [
    "second_model = sm.OLS(endog=y, exog=sm.add_constant(X_second))\n",
    "second_results = second_model.fit()\n",
    "print(second_results.summary())"
   ]
  },
  {
   "cell_type": "code",
   "execution_count": 110,
   "metadata": {},
   "outputs": [
    {
     "data": {
      "image/png": "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\n",
      "text/plain": [
       "<Figure size 720x360 with 2 Axes>"
      ]
     },
     "metadata": {},
     "output_type": "display_data"
    }
   ],
   "source": [
    "fig = plt.figure(figsize=(10,5))\n",
    "sm.graphics.plot_partregress_grid(second_results, exog_idx=[\"grade\", \"bedrooms\"], fig=fig)\n",
    "plt.tight_layout()\n",
    "plt.show()"
   ]
  },
  {
   "cell_type": "markdown",
   "metadata": {},
   "source": [
    ">>**one hot encoding**"
   ]
  },
  {
   "cell_type": "code",
   "execution_count": 115,
   "metadata": {},
   "outputs": [],
   "source": [
    "X_ohe = df[[\"grade\", \"bedrooms\",\"sqft_living\"]]\n",
    "X_dummy =  pd.get_dummies(X_ohe, columns=[\"grade\"], drop_first=True)"
   ]
  },
  {
   "cell_type": "code",
   "execution_count": 118,
   "metadata": {},
   "outputs": [
    {
     "name": "stdout",
     "output_type": "stream",
     "text": [
      "                            OLS Regression Results                            \n",
      "==============================================================================\n",
      "Dep. Variable:                  price   R-squared:                       0.584\n",
      "Model:                            OLS   Adj. R-squared:                  0.584\n",
      "Method:                 Least Squares   F-statistic:                     2524.\n",
      "Date:                Wed, 19 Apr 2023   Prob (F-statistic):               0.00\n",
      "Time:                        13:25:44   Log-Likelihood:            -2.9792e+05\n",
      "No. Observations:               21597   AIC:                         5.959e+05\n",
      "Df Residuals:                   21584   BIC:                         5.960e+05\n",
      "Df Model:                          12                                         \n",
      "Covariance Type:            nonrobust                                         \n",
      "===============================================================================\n",
      "                  coef    std err          t      P>|t|      [0.025      0.975]\n",
      "-------------------------------------------------------------------------------\n",
      "const        1.938e+05   2.37e+05      0.818      0.414   -2.71e+05    6.58e+05\n",
      "bedrooms    -2.307e+04   2220.781    -10.386      0.000   -2.74e+04   -1.87e+04\n",
      "sqft_living   175.5095      3.286     53.409      0.000     169.068     181.951\n",
      "grade_4     -6.454e+04   2.41e+05     -0.267      0.789   -5.38e+05    4.09e+05\n",
      "grade_5     -6.277e+04   2.38e+05     -0.264      0.792   -5.28e+05    4.03e+05\n",
      "grade_6     -3.906e+04   2.37e+05     -0.165      0.869   -5.04e+05    4.26e+05\n",
      "grade_7     -1.258e+04   2.37e+05     -0.053      0.958   -4.77e+05    4.52e+05\n",
      "grade_8      4.604e+04   2.37e+05      0.194      0.846   -4.19e+05    5.11e+05\n",
      "grade_9      1.636e+05   2.37e+05      0.690      0.490   -3.01e+05    6.28e+05\n",
      "grade_10     3.508e+05   2.37e+05      1.478      0.139   -1.14e+05    8.16e+05\n",
      "grade_11     6.285e+05   2.38e+05      2.645      0.008    1.63e+05    1.09e+06\n",
      "grade_12     1.146e+06   2.39e+05      4.798      0.000    6.78e+05    1.61e+06\n",
      "grade_13     2.315e+06   2.47e+05      9.383      0.000    1.83e+06     2.8e+06\n",
      "==============================================================================\n",
      "Omnibus:                    13669.586   Durbin-Watson:                   1.988\n",
      "Prob(Omnibus):                  0.000   Jarque-Bera (JB):           445920.398\n",
      "Skew:                           2.537   Prob(JB):                         0.00\n",
      "Kurtosis:                      24.674   Cond. No.                     1.11e+06\n",
      "==============================================================================\n",
      "\n",
      "Notes:\n",
      "[1] Standard Errors assume that the covariance matrix of the errors is correctly specified.\n",
      "[2] The condition number is large, 1.11e+06. This might indicate that there are\n",
      "strong multicollinearity or other numerical problems.\n"
     ]
    }
   ],
   "source": [
    "Ohe_model = sm.OLS(y, sm.add_constant(X_dummy))\n",
    "Ohe_results = Ohe_model.fit()\n",
    "\n",
    "print(Ohe_results.summary())"
   ]
  },
  {
   "cell_type": "markdown",
   "metadata": {},
   "source": [
    "The model has improved from 45% to 58%"
   ]
  },
  {
   "cell_type": "code",
   "execution_count": null,
   "metadata": {},
   "outputs": [],
   "source": []
  }
 ],
 "metadata": {
  "kernelspec": {
   "display_name": "Python (learn-env)",
   "language": "python",
   "name": "learn-env"
  },
  "language_info": {
   "codemirror_mode": {
    "name": "ipython",
    "version": 3
   },
   "file_extension": ".py",
   "mimetype": "text/x-python",
   "name": "python",
   "nbconvert_exporter": "python",
   "pygments_lexer": "ipython3",
   "version": "3.8.5"
  }
 },
 "nbformat": 4,
 "nbformat_minor": 2
}
